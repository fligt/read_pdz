{
 "cells": [
  {
   "cell_type": "markdown",
   "metadata": {},
   "source": [
    "# Welcome to read_pdz\n",
    "\n",
    "> Convert  Bruker XRF spectral data .pdz files into an open file format"
   ]
  },
  {
   "cell_type": "markdown",
   "metadata": {},
   "source": [
    "The X-Ray Fluorescence (XRF) data files that are produced by Bruker hand held XRF spectrometers are saved as `.pdz` files. Unfortunately these files are formatted as binary code. \n",
    "\n",
    "Over the last decades my lab, the Rijkserfgoedlaboratorium in Amsterdam, has used various types of Bruker hand held  X-Ray Fluorescence (XRF) spectrometers. Measurement data is saved into `.pdz` files. Unfortunately these files use a proprietary non standard binary file format. Even worse, over time the `.pdz` file format has changed several times. This situation restricts access to the data to a limited number of researchers who can run the required Bruker software. Furthermore, it is likely that we will loose the ability to read the data at some point in the future. \n",
    "\n",
    "In order to make optimal use of the XRF spectral data files in collaborative research projects now and to make sure that we can still read the data in the future we need to: 1) (at least partly) understand the file format, and 2) develop open software tools available to all researchers for reading and converting these data files. \n",
    "\n",
    "To support open heritage science `read_pdz` package is currently being developed under the MIT open source software license."
   ]
  }
 ],
 "metadata": {
  "kernelspec": {
   "display_name": "Python 3",
   "language": "python",
   "name": "python3"
  }
 },
 "nbformat": 4,
 "nbformat_minor": 4
}
