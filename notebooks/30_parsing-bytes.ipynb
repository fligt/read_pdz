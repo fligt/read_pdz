{
 "cells": [
  {
   "cell_type": "raw",
   "id": "1450865a-3542-45ec-9522-c6e51957b2d1",
   "metadata": {},
   "source": [
    "---\n",
    "skip_exec: true\n",
    "---"
   ]
  },
  {
   "cell_type": "code",
   "execution_count": null,
   "id": "eab9a426-e6fa-4e36-b510-b0ebdbd27b66",
   "metadata": {},
   "outputs": [],
   "source": [
    "#|default_exp reader"
   ]
  },
  {
   "cell_type": "markdown",
   "id": "97a7d36c-d771-4e69-97d8-8375e4e5822c",
   "metadata": {},
   "source": [
    "# About parsing pdz files \n",
    "\n",
    "> Let's bite off some bytes... "
   ]
  },
  {
   "cell_type": "markdown",
   "id": "6616ab8b-f7ab-433d-baec-ae5d5a57e66d",
   "metadata": {},
   "source": [
    "Bruker `.pdz` files are binary files that contain both XRF spectral data (i.e. photon counts) and metadata. There is no official description of the file format yet, so in order to decode the bytes we need to do some reverse engineering. This will get a rather complicated, so fasten your seat belts... "
   ]
  },
  {
   "cell_type": "markdown",
   "id": "7278cec9-d5c0-4f30-a6f5-f87d8ba7241b",
   "metadata": {},
   "source": [
    "To get started we need to read the pdz file into memory as a numpy array of bytes using the `file_to_bytes()` function. "
   ]
  },
  {
   "cell_type": "code",
   "execution_count": null,
   "id": "328b6abc-ae34-4a6b-9972-4fac11546196",
   "metadata": {},
   "outputs": [],
   "source": [
    "from read_pdz import file_to_bytes"
   ]
  },
  {
   "cell_type": "code",
   "execution_count": null,
   "id": "ec860ee1-1e1e-4674-a57e-77e4e94189e6",
   "metadata": {},
   "outputs": [
    {
     "data": {
      "text/plain": [
       "8690"
      ]
     },
     "execution_count": null,
     "metadata": {},
     "output_type": "execute_result"
    }
   ],
   "source": [
    "pdz_file = '/home/frank/Work/DATA/read-pdz-demodata/s0243V1962_XRF_28_White edge clothes underpainting (Al 38um filter).pdz'\n",
    "pdz_bytes = file_to_bytes(pdz_file)\n",
    "len(pdz_bytes)"
   ]
  },
  {
   "cell_type": "markdown",
   "id": "c0d696a4-5a57-489d-aeff-335e89e59ae6",
   "metadata": {},
   "source": [
    "We see that this pdz file contains 8690 bytes. Let's take a look at the first 6 bytes..."
   ]
  },
  {
   "cell_type": "code",
   "execution_count": null,
   "id": "b9b453d3-da17-4b20-bc93-c53d91f59e11",
   "metadata": {},
   "outputs": [
    {
     "data": {
      "text/plain": [
       "array([b'\\x19', b'', b'\\x0e', b'', b'', b''], dtype='|S1')"
      ]
     },
     "execution_count": null,
     "metadata": {},
     "output_type": "execute_result"
    }
   ],
   "source": [
    "first_six_bytes = pdz_bytes[0:6]\n",
    "first_six_bytes"
   ]
  },
  {
   "cell_type": "markdown",
   "id": "02d53596-e1ef-4d09-ae57-d647c818f0c2",
   "metadata": {},
   "source": [
    "The standard Python library for decoding bytes is [struct](https://docs.python.org/3/library/struct.html). In order to decode a sequence of bytes you can use the `struct.unpack()` function. As a first argument you need to supply a so-called format string. This is essentially a recipe that explains which bytes belong together and how to interpret the byte values of each group. "
   ]
  },
  {
   "cell_type": "markdown",
   "id": "708dec8d-8d14-43f1-a6e2-c3fd5067cd70",
   "metadata": {},
   "source": [
    "We happen to know that the byte order in pdz files is *Little-Endian*. This is indicated with the `'<'` character. Next thing we know is that the first two bytes belong together and represent a 'short' integer value. This is indicated with the character `'h'`. The next group of four bytes represents an integer. This is indicated with the character `'i'`. For more detail on format characters see: [format-characters](https://docs.python.org/3/library/struct.html#format-characters).  \n",
    "\n",
    "Armed with our format string `'<hi'` we are now ready to decode our first six bytes: "
   ]
  },
  {
   "cell_type": "code",
   "execution_count": null,
   "id": "48af6051-15d9-4ea9-9c1e-fb6c1534b4b6",
   "metadata": {},
   "outputs": [],
   "source": [
    "import struct "
   ]
  },
  {
   "cell_type": "code",
   "execution_count": null,
   "id": "44da33ae-cedc-4059-ab8d-9c808be99d25",
   "metadata": {},
   "outputs": [
    {
     "data": {
      "text/plain": [
       "(25, 14)"
      ]
     },
     "execution_count": null,
     "metadata": {},
     "output_type": "execute_result"
    }
   ],
   "source": [
    "struct.unpack('<hi', first_six_bytes)"
   ]
  },
  {
   "attachments": {},
   "cell_type": "markdown",
   "id": "9e817448-74c6-4060-b7cb-bff00cc4bcc4",
   "metadata": {},
   "source": [
    "Unfortunately the standard `struct.unpack()` function is not sufficient to decode pdz files. The reason for this is that Bruker pdz files contain different types of *variable byte length* segments that require more advanced decoding. An example of such a contraption is a variable length character string. The first four bytes of such a segment contain an integer value that represents the number of two byte characters following that belong to that string. Parsing such a string is then a two-step process. First read the size `n` of the string, and then read `2n` bytes that contain the actual string characters. Another example of a variable byte length construct is the division of a pdz file into blocks. Here again we need to read an integer value to decide how many following bytes belong the block. So far we have discovered three types of variable byte length constructs that are being used in pdz files: *file blocks*, *strings* and *tables*. \n",
    "\n",
    "An essential a first step in parsing a pdz file is a separation into it's consecutive file blocks. This can be done by applying the `get_blocks()` function to the `pdz_bytes` array.  "
   ]
  },
  {
   "cell_type": "code",
   "execution_count": null,
   "id": "ae989345-f451-448e-8135-610541d3de78",
   "metadata": {},
   "outputs": [],
   "source": [
    "from read_pdz import get_blocks"
   ]
  },
  {
   "cell_type": "code",
   "execution_count": null,
   "id": "44f253ab-f469-4471-9644-258a6aed7904",
   "metadata": {},
   "outputs": [
    {
     "name": "stdout",
     "output_type": "stream",
     "text": [
      "Detecting block sequence...\n",
      "Ok!\n"
     ]
    }
   ],
   "source": [
    "block_list = get_blocks(pdz_bytes)"
   ]
  },
  {
   "cell_type": "markdown",
   "id": "c503bf3a-3d11-4b79-a94c-fd4eae04c837",
   "metadata": {},
   "source": [
    "Let's take a look at our `block_list` variable. Note that for long arrays not all values are printed... "
   ]
  },
  {
   "cell_type": "code",
   "execution_count": null,
   "id": "5c144a5b-8ab9-4218-b506-5959a6b5acf8",
   "metadata": {},
   "outputs": [
    {
     "data": {
      "text/plain": [
       "[{'block_type': 25,\n",
       "  'block_size': 14,\n",
       "  'start': 0,\n",
       "  'stop': 20,\n",
       "  'file_size': 8690,\n",
       "  'bytes': array([b'\\x19', b'', b'\\x0e', b'', b'', b'', b'p', b'', b'd', b'', b'z',\n",
       "         b'', b'2', b'', b'5', b'', b'\\x01', b'', b'', b''], dtype='|S1')},\n",
       " {'block_type': 1,\n",
       "  'block_size': 228,\n",
       "  'start': 20,\n",
       "  'stop': 254,\n",
       "  'file_size': 8690,\n",
       "  'bytes': array([b'\\x01', b'', b'\\xe4', b'', b'', b'', b'\\x08', b'', b'', b'', b'9',\n",
       "         b'', b'0', b'', b'0', b'', b'F', b'', b'4', b'', b'9', b'', b'6',\n",
       "         b'', b'9', b'', b'\\x08', b'', b'', b'', b'S', b'', b'K', b'', b'5',\n",
       "         b'', b'-', b'', b'4', b'', b'9', b'', b'6', b'', b'9', b'', b'-',\n",
       "         b'-', b'-', b'A', b'}', b'', b'\\x06', b'', b'', b'', b'A', b'',\n",
       "         b'm', b'', b'p', b'', b't', b'', b'e', b'', b'k', b'', b'\\x04',\n",
       "         b'', b'', b'', b'R', b'', b'x', b'', b'B', b'', b'x', b'', b'\\x03',\n",
       "         b'\\x08', b'\\x07', b'', b'', b'', b'M', b'', b'o', b'', b'v', b'',\n",
       "         b'a', b'', b'b', b'', b'l', b'', b'e', b'', b'\\x08', b'', b'', b'',\n",
       "         b'\\x01', b'', b'\\t', b'', b'', b'', b'8', b'', b'.', b'', b'0',\n",
       "         b'', b'.', b'', b'0', b'', b'.', b'', b'4', b'', b'4', b'', b'6',\n",
       "         b'', b'\\x02', b'', b'\\x06', b'', b'', b'', b'2', b'', b'0', b'',\n",
       "         b'0', b'', b'.', b'', b'3', b'', b'9', b'', b'\\x03', b'', b'\\x04',\n",
       "         b'', b'', b'', b'6', b'', b'.', b'', b'0', b'', b'3', b'', b'\\x04',\n",
       "         b'', b'\\x04', b'', b'', b'', b'3', b'', b'.', b'', b'0', b'', b'3',\n",
       "         b'', b'\\x05', b'', b'\\x04', b'', b'', b'', b'9', b'', b'.', b'',\n",
       "         b'2', b'', b'F', b'', b'\\x06', b'', b'\\x06', b'', b'', b'', b'2',\n",
       "         b'', b'0', b'', b'0', b'', b'.', b'', b'3', b'', b'9', b'',\n",
       "         b'\\x07', b'', b'\\x04', b'', b'', b'', b'1', b'', b'.', b'', b'1',\n",
       "         b'', b'1', b'', b'\\x08', b'', b'\\x04', b'', b'', b'', b'1', b'',\n",
       "         b'.', b'', b'0', b'', b'1', b''], dtype='|S1')},\n",
       " {'block_type': 2,\n",
       "  'block_size': 92,\n",
       "  'start': 254,\n",
       "  'stop': 352,\n",
       "  'file_size': 8690,\n",
       "  'bytes': array([b'\\x02', b'', b'\\\\', b'', b'', b'', b'\\x01', b'', b'', b'',\n",
       "         b'\\xaa', b'4', b'|', b'', b'\\x16', b'\\xee', b'K', b'', b'', b'',\n",
       "         b'', b'', b'', b'', b'', b'', b'x', b'\\x94', b']', b'B', b'\\xe4',\n",
       "         b'%', b']', b'B', b'\\xd8', b'\\xa3', b'\\x86', b'A', b'\\xd3',\n",
       "         b'\\xcc', b'^', b'A', b'\\x8a', b'A', b'\\xc4', b'A', b'{', b'\\x8e',\n",
       "         b'\\xe1', b'B', b'\\x05', b'', b'', b'', b'A', b'', b'r', b'', b't',\n",
       "         b'', b'a', b'', b'x', b'', b'\\t', b'', b'', b'', b'8', b'', b'.',\n",
       "         b'', b'0', b'', b'.', b'', b'0', b'', b'.', b'', b'4', b'', b'4',\n",
       "         b'', b'6', b'', b'\\x04', b'', b'', b'', b't', b'', b'e', b'', b's',\n",
       "         b'', b't', b''], dtype='|S1')},\n",
       " {'block_type': 3,\n",
       "  'block_size': 8332,\n",
       "  'start': 352,\n",
       "  'stop': 8690,\n",
       "  'file_size': 8690,\n",
       "  'bytes': array([b'\\x03', b'', b'\\x8c', ..., b'', b'', b''], dtype='|S1')}]"
      ]
     },
     "execution_count": null,
     "metadata": {},
     "output_type": "execute_result"
    }
   ],
   "source": [
    "block_list"
   ]
  },
  {
   "cell_type": "markdown",
   "id": "fda9d061-781a-4f77-8907-107b54251821",
   "metadata": {},
   "source": [
    "The example pdz file here contains exactly four consecutive blocks of bytes. Within each block the first two bytes of contain a (short) integer value that indicates the type of block, while the second four bytes contain an integer value that describes the length of that block. The first two bytes of the first block contain an integer value `25`. This indicates that the pdz format is 25. The next blocks are of type `1`, `2` and `3`. Block types `1` and `2` contain various instrument metadata, while block type `3` contains the actual spectral data. According to our local XRF guru Luc Megens a pdz file can contain multiple XRF spectra in separate type 3 blocks. Furthermore pdz files can contain type `4`, `5` and `6` blocks. For now we will ignore these... "
   ]
  },
  {
   "cell_type": "markdown",
   "id": "b580621e-76f3-4ea8-8dbd-e7830bbcd920",
   "metadata": {},
   "source": [
    "To enable the parsing of variable length strings and tables I created an *extended format string syntax* that besides standard struct format characters includes a capital `'S'` and `'T'` for strings and tables, and `'X'` for skipping bytes. Both `'S'` and `'X'` can be prefixed with and integer multiplier that indicates how many strings and bytes need to be parsed. For example `3X` will skip 3 bytes. If you need to skip an unknown amount of bytes at the end of an array you can put a wildcard `*X` multiplier at the end of the xformat string. These additional characters need to be separated from standard struct format strings with dashes `'-'`. Another important extension of the syntax is `'Z'`. This indicates at which position the actual spectral data of 2048 photon counts should be read.   "
   ]
  },
  {
   "cell_type": "markdown",
   "id": "26758c10-acb8-4323-971e-f9d573e7067f",
   "metadata": {},
   "source": [
    "To read the information that is hidden in the bytes array of a block we can now apply the function `multiparse()`. This function needs as  required arguments an *extended syntax format string* `xformat` and an array of bytes `arr`. The xformat string functions as a recipe to decode the bytes array. The `xformat` strings for decoding block types `25`, `1`, `2` and `3` are stored in  the `PDZ_25_STRUCTURE_DICT` dictionary. Also included for each block is a `param_keys` list with our interpretation of the parsed values based on a comparison with other exports from Bruker software. In cases where we could not find out we put question marks.   "
   ]
  },
  {
   "cell_type": "code",
   "execution_count": null,
   "id": "b4956455-d40c-470d-8c86-bda9c18fa531",
   "metadata": {},
   "outputs": [],
   "source": [
    "from read_pdz import multiparse, PDZ_25_STRUCTURE_DICT"
   ]
  },
  {
   "cell_type": "markdown",
   "id": "61f0248b-4aa0-41cf-aaf7-2407038d23df",
   "metadata": {},
   "source": [
    "Before parsing the bytes from the file blocks it is informative to take look at the `PDZ_25_STRUCTURE_DICT` dictionary. This provides a complete specification of the pdz file format.  "
   ]
  },
  {
   "cell_type": "markdown",
   "id": "4b44a657-a2d8-4649-bb6b-76c877a2a06a",
   "metadata": {},
   "source": [
    "```python\n",
    "PDZ_25_STRUCTURE_DICT = {\n",
    "    25:  {'xformat': 'hi-10X-i', \n",
    "          'param_keys': ['pdz_type', 'block_size', 'FileFormatString?', '??']}, \n",
    "    1:   {'xformat': 'hi-2S-6X-2S-h-S-T', \n",
    "          'param_keys': ['block_type', 'block_size', '??', 'SerialString', '??', '??', '??', '??', '??', '??', \n",
    "                         '??', '??', '??', '??', '??', '??', '??']}, \n",
    "    2:   {'xformat': 'hi3i8f-*X', \n",
    "          'param_keys': ['block_type', 'block_size', '??', 'RawCounts', 'ValidCounts', '??', '??', \n",
    "                         '??', 'ActiveTimeInSeconds', 'DeadTimeInSeconds', 'ResetTimeInSeconds', \n",
    "                         'LiveTimeInSeconds', 'TotalElapsedTimeInSeconds', '??', '??', '??']}, \n",
    "    3:   {'xformat': 'hi-3i9f7hfhfhfhf8hfhi-S-h-Z', \n",
    "          'param_keys': ['block_type', 'block_size', '??', 'RawCounts', 'ValidCounts', \n",
    "                         '??', '??', '??', 'ActiveTimeInSeconds', 'DeadTimeInSeconds', \n",
    "                         'ResetTimeInSeconds', 'LiveTimeInSeconds', 'XrayVoltageInkV', 'XrayFilamentCurrentInMicroAmps', \n",
    "                         'Filter1ElementAtomicNum', 'Filter1Thickness', 'Filter2ElementAtomicNum', 'Filter2Thickness', \n",
    "                         'Filter3ElementAtomicNum', 'Filter3Thickness', '??', 'DetectorTempInC', '??', \n",
    "                         '??', '??', 'eVPerChannel', '??', 'eVStart', \n",
    "                         'Year', 'Month', 'AM/PM code?', 'Day', 'Hour', 'Minutes', 'Seconds', \n",
    "                         '??', 'NosePressureInMilliBars', 'NumberOfChannels', 'NoseTemperatureInC', \n",
    "                         'TubeSpec?', '??', '2048 counts']}}\n",
    "```"
   ]
  },
  {
   "attachments": {},
   "cell_type": "markdown",
   "id": "92f1cb1c-864e-455e-8010-6898a8cb6f7d",
   "metadata": {},
   "source": [
    "With this pdz file format specification we can decode the four blocks in the pdz file one by one. Let's parse the bytes of first block (type 25) of the pdz file with the corresponding `xformat` string and `param_keys` list.   "
   ]
  },
  {
   "cell_type": "code",
   "execution_count": null,
   "id": "e89f7fb4-b10a-4b09-8d99-065badf347df",
   "metadata": {},
   "outputs": [
    {
     "data": {
      "text/plain": [
       "('hi-10X-i', ['pdz_type', 'block_size', 'FileFormatString?', '??'])"
      ]
     },
     "execution_count": null,
     "metadata": {},
     "output_type": "execute_result"
    }
   ],
   "source": [
    "xformat = PDZ_25_STRUCTURE_DICT[25]['xformat']\n",
    "param_keys = PDZ_25_STRUCTURE_DICT[25]['param_keys']\n",
    "xformat, param_keys"
   ]
  },
  {
   "cell_type": "markdown",
   "id": "461f114e-4d69-4844-bfd7-438d33efe31f",
   "metadata": {},
   "source": [
    "The recipe for reading this first file block is quite short: `h`: read a two byte integer, `i`: read a four byte integer, `10X`: skip ten bytes, `i`: read another four byte integer. "
   ]
  },
  {
   "cell_type": "code",
   "execution_count": null,
   "id": "9de6fcd5-ede2-4031-8e5e-f672154af32f",
   "metadata": {},
   "outputs": [
    {
     "data": {
      "text/html": [
       "<div>\n",
       "<style scoped>\n",
       "    .dataframe tbody tr th:only-of-type {\n",
       "        vertical-align: middle;\n",
       "    }\n",
       "\n",
       "    .dataframe tbody tr th {\n",
       "        vertical-align: top;\n",
       "    }\n",
       "\n",
       "    .dataframe thead th {\n",
       "        text-align: right;\n",
       "    }\n",
       "</style>\n",
       "<table border=\"1\" class=\"dataframe\">\n",
       "  <thead>\n",
       "    <tr style=\"text-align: right;\">\n",
       "      <th></th>\n",
       "      <th>values</th>\n",
       "    </tr>\n",
       "  </thead>\n",
       "  <tbody>\n",
       "    <tr>\n",
       "      <th>0</th>\n",
       "      <td>25</td>\n",
       "    </tr>\n",
       "    <tr>\n",
       "      <th>1</th>\n",
       "      <td>14</td>\n",
       "    </tr>\n",
       "    <tr>\n",
       "      <th>2</th>\n",
       "      <td>b'pdz25'</td>\n",
       "    </tr>\n",
       "    <tr>\n",
       "      <th>3</th>\n",
       "      <td>1</td>\n",
       "    </tr>\n",
       "  </tbody>\n",
       "</table>\n",
       "</div>"
      ],
      "text/plain": [
       "     values\n",
       "0        25\n",
       "1        14\n",
       "2  b'pdz25'\n",
       "3         1"
      ]
     },
     "metadata": {},
     "output_type": "display_data"
    }
   ],
   "source": [
    "b0 = block_list[0]['bytes']\n",
    "multiparse(xformat, b0);"
   ]
  },
  {
   "cell_type": "markdown",
   "id": "edbb6c58-e8c5-4bae-b952-55747a775469",
   "metadata": {},
   "source": [
    "The `multiparse()` function can be given an optional third argument that is a list with the interpretation of each value.   "
   ]
  },
  {
   "cell_type": "code",
   "execution_count": null,
   "id": "5651671b-87ed-416c-a7e2-be4fdd52fada",
   "metadata": {},
   "outputs": [
    {
     "data": {
      "text/html": [
       "<div>\n",
       "<style scoped>\n",
       "    .dataframe tbody tr th:only-of-type {\n",
       "        vertical-align: middle;\n",
       "    }\n",
       "\n",
       "    .dataframe tbody tr th {\n",
       "        vertical-align: top;\n",
       "    }\n",
       "\n",
       "    .dataframe thead th {\n",
       "        text-align: right;\n",
       "    }\n",
       "</style>\n",
       "<table border=\"1\" class=\"dataframe\">\n",
       "  <thead>\n",
       "    <tr style=\"text-align: right;\">\n",
       "      <th></th>\n",
       "      <th>values</th>\n",
       "      <th>param_keys</th>\n",
       "    </tr>\n",
       "  </thead>\n",
       "  <tbody>\n",
       "    <tr>\n",
       "      <th>0</th>\n",
       "      <td>25</td>\n",
       "      <td>pdz_type</td>\n",
       "    </tr>\n",
       "    <tr>\n",
       "      <th>1</th>\n",
       "      <td>14</td>\n",
       "      <td>block_size</td>\n",
       "    </tr>\n",
       "    <tr>\n",
       "      <th>2</th>\n",
       "      <td>b'pdz25'</td>\n",
       "      <td>FileFormatString?</td>\n",
       "    </tr>\n",
       "    <tr>\n",
       "      <th>3</th>\n",
       "      <td>1</td>\n",
       "      <td>??</td>\n",
       "    </tr>\n",
       "  </tbody>\n",
       "</table>\n",
       "</div>"
      ],
      "text/plain": [
       "     values         param_keys\n",
       "0        25           pdz_type\n",
       "1        14         block_size\n",
       "2  b'pdz25'  FileFormatString?\n",
       "3         1                 ??"
      ]
     },
     "metadata": {},
     "output_type": "display_data"
    }
   ],
   "source": [
    "multiparse(xformat, b0, param_keys=param_keys);"
   ]
  },
  {
   "cell_type": "markdown",
   "id": "4668c129-39e3-4f6e-8636-bd50b0db9fb4",
   "metadata": {},
   "source": [
    "Next we read the second block..."
   ]
  },
  {
   "cell_type": "code",
   "execution_count": null,
   "id": "a0e6d67f-c260-4df1-a507-1b073136348f",
   "metadata": {},
   "outputs": [
    {
     "data": {
      "text/plain": [
       "'hi-2S-6s-2S-h-S-T'"
      ]
     },
     "execution_count": null,
     "metadata": {},
     "output_type": "execute_result"
    }
   ],
   "source": [
    "b1 = block_list[1]['bytes']\n",
    "xformat = PDZ_25_STRUCTURE_DICT[1]['xformat']\n",
    "param_keys = PDZ_25_STRUCTURE_DICT[1]['param_keys'] \n",
    "xformat"
   ]
  },
  {
   "cell_type": "code",
   "execution_count": null,
   "id": "3e286f6b-9804-4fe7-9327-180aec35c7d7",
   "metadata": {},
   "outputs": [
    {
     "data": {
      "text/html": [
       "<div>\n",
       "<style scoped>\n",
       "    .dataframe tbody tr th:only-of-type {\n",
       "        vertical-align: middle;\n",
       "    }\n",
       "\n",
       "    .dataframe tbody tr th {\n",
       "        vertical-align: top;\n",
       "    }\n",
       "\n",
       "    .dataframe thead th {\n",
       "        text-align: right;\n",
       "    }\n",
       "</style>\n",
       "<table border=\"1\" class=\"dataframe\">\n",
       "  <thead>\n",
       "    <tr style=\"text-align: right;\">\n",
       "      <th></th>\n",
       "      <th>values</th>\n",
       "      <th>param_keys</th>\n",
       "    </tr>\n",
       "  </thead>\n",
       "  <tbody>\n",
       "    <tr>\n",
       "      <th>0</th>\n",
       "      <td>1</td>\n",
       "      <td>block_type</td>\n",
       "    </tr>\n",
       "    <tr>\n",
       "      <th>1</th>\n",
       "      <td>228</td>\n",
       "      <td>block_size</td>\n",
       "    </tr>\n",
       "    <tr>\n",
       "      <th>2</th>\n",
       "      <td>900F4969</td>\n",
       "      <td>??</td>\n",
       "    </tr>\n",
       "    <tr>\n",
       "      <th>3</th>\n",
       "      <td>SK5-4969</td>\n",
       "      <td>SerialString</td>\n",
       "    </tr>\n",
       "    <tr>\n",
       "      <th>4</th>\n",
       "      <td>b'---A}\\x00'</td>\n",
       "      <td>??</td>\n",
       "    </tr>\n",
       "    <tr>\n",
       "      <th>5</th>\n",
       "      <td>Amptek</td>\n",
       "      <td>??</td>\n",
       "    </tr>\n",
       "    <tr>\n",
       "      <th>6</th>\n",
       "      <td>RxBx</td>\n",
       "      <td>??</td>\n",
       "    </tr>\n",
       "    <tr>\n",
       "      <th>7</th>\n",
       "      <td>2051</td>\n",
       "      <td>??</td>\n",
       "    </tr>\n",
       "    <tr>\n",
       "      <th>8</th>\n",
       "      <td>Movable</td>\n",
       "      <td>??</td>\n",
       "    </tr>\n",
       "    <tr>\n",
       "      <th>9</th>\n",
       "      <td>[#1, 8.0.0.446]</td>\n",
       "      <td>??</td>\n",
       "    </tr>\n",
       "    <tr>\n",
       "      <th>10</th>\n",
       "      <td>[#2, 200.39]</td>\n",
       "      <td>??</td>\n",
       "    </tr>\n",
       "    <tr>\n",
       "      <th>11</th>\n",
       "      <td>[#3, 6.03]</td>\n",
       "      <td>??</td>\n",
       "    </tr>\n",
       "    <tr>\n",
       "      <th>12</th>\n",
       "      <td>[#4, 3.03]</td>\n",
       "      <td>??</td>\n",
       "    </tr>\n",
       "    <tr>\n",
       "      <th>13</th>\n",
       "      <td>[#5, 9.2F]</td>\n",
       "      <td>??</td>\n",
       "    </tr>\n",
       "    <tr>\n",
       "      <th>14</th>\n",
       "      <td>[#6, 200.39]</td>\n",
       "      <td>??</td>\n",
       "    </tr>\n",
       "    <tr>\n",
       "      <th>15</th>\n",
       "      <td>[#7, 1.11]</td>\n",
       "      <td>??</td>\n",
       "    </tr>\n",
       "    <tr>\n",
       "      <th>16</th>\n",
       "      <td>[#8, 1.01]</td>\n",
       "      <td>??</td>\n",
       "    </tr>\n",
       "  </tbody>\n",
       "</table>\n",
       "</div>"
      ],
      "text/plain": [
       "             values    param_keys\n",
       "0                 1    block_type\n",
       "1               228    block_size\n",
       "2          900F4969            ??\n",
       "3          SK5-4969  SerialString\n",
       "4      b'---A}\\x00'            ??\n",
       "5            Amptek            ??\n",
       "6              RxBx            ??\n",
       "7              2051            ??\n",
       "8           Movable            ??\n",
       "9   [#1, 8.0.0.446]            ??\n",
       "10     [#2, 200.39]            ??\n",
       "11       [#3, 6.03]            ??\n",
       "12       [#4, 3.03]            ??\n",
       "13       [#5, 9.2F]            ??\n",
       "14     [#6, 200.39]            ??\n",
       "15       [#7, 1.11]            ??\n",
       "16       [#8, 1.01]            ??"
      ]
     },
     "metadata": {},
     "output_type": "display_data"
    }
   ],
   "source": [
    "multiparse(xformat, b1, param_keys=param_keys);"
   ]
  },
  {
   "cell_type": "markdown",
   "id": "27ec510a-2c02-46db-a400-045ef2c1aecc",
   "metadata": {},
   "source": [
    "This file block (type 1) contains values that seem to indicate serial numbers and probably software versions. Not sure  how useful this information is for us. Let's read the next block. "
   ]
  },
  {
   "cell_type": "code",
   "execution_count": null,
   "id": "d6fe687d-5f21-40c9-bbde-9623c83c2beb",
   "metadata": {},
   "outputs": [
    {
     "data": {
      "text/plain": [
       "'hi3i8f-*X'"
      ]
     },
     "execution_count": null,
     "metadata": {},
     "output_type": "execute_result"
    }
   ],
   "source": [
    "b2 = block_list[2]['bytes']\n",
    "xformat = PDZ_25_STRUCTURE_DICT[2]['xformat']\n",
    "param_keys = PDZ_25_STRUCTURE_DICT[2]['param_keys'] \n",
    "xformat"
   ]
  },
  {
   "cell_type": "code",
   "execution_count": null,
   "id": "f0b3661b-b900-4b3d-a335-4721ba29e7f1",
   "metadata": {},
   "outputs": [
    {
     "data": {
      "text/html": [
       "<div>\n",
       "<style scoped>\n",
       "    .dataframe tbody tr th:only-of-type {\n",
       "        vertical-align: middle;\n",
       "    }\n",
       "\n",
       "    .dataframe tbody tr th {\n",
       "        vertical-align: top;\n",
       "    }\n",
       "\n",
       "    .dataframe thead th {\n",
       "        text-align: right;\n",
       "    }\n",
       "</style>\n",
       "<table border=\"1\" class=\"dataframe\">\n",
       "  <thead>\n",
       "    <tr style=\"text-align: right;\">\n",
       "      <th></th>\n",
       "      <th>values</th>\n",
       "      <th>param_keys</th>\n",
       "    </tr>\n",
       "  </thead>\n",
       "  <tbody>\n",
       "    <tr>\n",
       "      <th>0</th>\n",
       "      <td>2</td>\n",
       "      <td>block_type</td>\n",
       "    </tr>\n",
       "    <tr>\n",
       "      <th>1</th>\n",
       "      <td>92</td>\n",
       "      <td>block_size</td>\n",
       "    </tr>\n",
       "    <tr>\n",
       "      <th>2</th>\n",
       "      <td>1</td>\n",
       "      <td>??</td>\n",
       "    </tr>\n",
       "    <tr>\n",
       "      <th>3</th>\n",
       "      <td>8139946</td>\n",
       "      <td>RawCounts</td>\n",
       "    </tr>\n",
       "    <tr>\n",
       "      <th>4</th>\n",
       "      <td>4976150</td>\n",
       "      <td>ValidCounts</td>\n",
       "    </tr>\n",
       "    <tr>\n",
       "      <th>5</th>\n",
       "      <td>0.0</td>\n",
       "      <td>??</td>\n",
       "    </tr>\n",
       "    <tr>\n",
       "      <th>6</th>\n",
       "      <td>0.0</td>\n",
       "      <td>??</td>\n",
       "    </tr>\n",
       "    <tr>\n",
       "      <th>7</th>\n",
       "      <td>55.394989</td>\n",
       "      <td>??</td>\n",
       "    </tr>\n",
       "    <tr>\n",
       "      <th>8</th>\n",
       "      <td>55.287003</td>\n",
       "      <td>ActiveTimeInSeconds</td>\n",
       "    </tr>\n",
       "    <tr>\n",
       "      <th>9</th>\n",
       "      <td>16.830002</td>\n",
       "      <td>DeadTimeInSeconds</td>\n",
       "    </tr>\n",
       "    <tr>\n",
       "      <th>10</th>\n",
       "      <td>13.925006</td>\n",
       "      <td>ResetTimeInSeconds</td>\n",
       "    </tr>\n",
       "    <tr>\n",
       "      <th>11</th>\n",
       "      <td>24.532001</td>\n",
       "      <td>LiveTimeInSeconds</td>\n",
       "    </tr>\n",
       "    <tr>\n",
       "      <th>12</th>\n",
       "      <td>112.778282</td>\n",
       "      <td>TotalElapsedTimeInSeconds</td>\n",
       "    </tr>\n",
       "    <tr>\n",
       "      <th>13</th>\n",
       "      <td>b'\\x05Artax\\t8.0.0.446\\x04test'</td>\n",
       "      <td>??</td>\n",
       "    </tr>\n",
       "  </tbody>\n",
       "</table>\n",
       "</div>"
      ],
      "text/plain": [
       "                             values                 param_keys\n",
       "0                                 2                 block_type\n",
       "1                                92                 block_size\n",
       "2                                 1                         ??\n",
       "3                           8139946                  RawCounts\n",
       "4                           4976150                ValidCounts\n",
       "5                               0.0                         ??\n",
       "6                               0.0                         ??\n",
       "7                         55.394989                         ??\n",
       "8                         55.287003        ActiveTimeInSeconds\n",
       "9                         16.830002          DeadTimeInSeconds\n",
       "10                        13.925006         ResetTimeInSeconds\n",
       "11                        24.532001          LiveTimeInSeconds\n",
       "12                       112.778282  TotalElapsedTimeInSeconds\n",
       "13  b'\\x05Artax\\t8.0.0.446\\x04test'                         ??"
      ]
     },
     "metadata": {},
     "output_type": "display_data"
    }
   ],
   "source": [
    "multiparse(xformat, b2, param_keys=param_keys);"
   ]
  },
  {
   "cell_type": "markdown",
   "id": "fbb00c84-ae45-40c6-a8dd-8bf0d601e914",
   "metadata": {},
   "source": [
    "File block `2` primarily contains instrumental data about measurement times and detector counts. "
   ]
  },
  {
   "cell_type": "markdown",
   "id": "59181989-8fcb-4ed7-b5b1-c832aa77ba94",
   "metadata": {},
   "source": [
    "Finally we parse file block type `3`. This block contains two parts. The first part contains spectral parameters, while the second part contains the actual spectral data (i.e. photon counts consisting of 2048 four byte integers.   "
   ]
  },
  {
   "cell_type": "code",
   "execution_count": null,
   "id": "fc1c4bff-da1c-4448-9ce1-bce59e2b6b93",
   "metadata": {},
   "outputs": [
    {
     "data": {
      "text/plain": [
       "'hi-3i9f7hfhfhfhf8hfhi-*Z'"
      ]
     },
     "execution_count": null,
     "metadata": {},
     "output_type": "execute_result"
    }
   ],
   "source": [
    "b3 = block_list[3]['bytes']\n",
    "b3_part1 = b3[0:-2054] # spectral parameters\n",
    "b3_part2 = b3[-2054:] # counts \n",
    "\n",
    "xformat = PDZ_25_STRUCTURE_DICT[3]['xformat']\n",
    "param_keys = PDZ_25_STRUCTURE_DICT[3]['param_keys'] \n",
    "xformat"
   ]
  },
  {
   "cell_type": "code",
   "execution_count": null,
   "id": "d38a5b21-8a4f-4191-8f39-9e8ec4312191",
   "metadata": {},
   "outputs": [
    {
     "data": {
      "text/html": [
       "<div>\n",
       "<style scoped>\n",
       "    .dataframe tbody tr th:only-of-type {\n",
       "        vertical-align: middle;\n",
       "    }\n",
       "\n",
       "    .dataframe tbody tr th {\n",
       "        vertical-align: top;\n",
       "    }\n",
       "\n",
       "    .dataframe thead th {\n",
       "        text-align: right;\n",
       "    }\n",
       "</style>\n",
       "<table border=\"1\" class=\"dataframe\">\n",
       "  <thead>\n",
       "    <tr style=\"text-align: right;\">\n",
       "      <th></th>\n",
       "      <th>values</th>\n",
       "      <th>param_keys</th>\n",
       "    </tr>\n",
       "  </thead>\n",
       "  <tbody>\n",
       "    <tr>\n",
       "      <th>0</th>\n",
       "      <td>3</td>\n",
       "      <td>block_type</td>\n",
       "    </tr>\n",
       "    <tr>\n",
       "      <th>1</th>\n",
       "      <td>8332</td>\n",
       "      <td>block_size</td>\n",
       "    </tr>\n",
       "    <tr>\n",
       "      <th>2</th>\n",
       "      <td>0</td>\n",
       "      <td>??</td>\n",
       "    </tr>\n",
       "    <tr>\n",
       "      <th>3</th>\n",
       "      <td>8139946</td>\n",
       "      <td>RawCounts</td>\n",
       "    </tr>\n",
       "    <tr>\n",
       "      <th>4</th>\n",
       "      <td>4976150</td>\n",
       "      <td>ValidCounts</td>\n",
       "    </tr>\n",
       "    <tr>\n",
       "      <th>5</th>\n",
       "      <td>0.0</td>\n",
       "      <td>??</td>\n",
       "    </tr>\n",
       "    <tr>\n",
       "      <th>6</th>\n",
       "      <td>0.0</td>\n",
       "      <td>??</td>\n",
       "    </tr>\n",
       "    <tr>\n",
       "      <th>7</th>\n",
       "      <td>55.394989</td>\n",
       "      <td>??</td>\n",
       "    </tr>\n",
       "    <tr>\n",
       "      <th>8</th>\n",
       "      <td>55.287003</td>\n",
       "      <td>ActiveTimeInSeconds</td>\n",
       "    </tr>\n",
       "    <tr>\n",
       "      <th>9</th>\n",
       "      <td>16.830002</td>\n",
       "      <td>DeadTimeInSeconds</td>\n",
       "    </tr>\n",
       "    <tr>\n",
       "      <th>10</th>\n",
       "      <td>13.925006</td>\n",
       "      <td>ResetTimeInSeconds</td>\n",
       "    </tr>\n",
       "    <tr>\n",
       "      <th>11</th>\n",
       "      <td>24.532001</td>\n",
       "      <td>LiveTimeInSeconds</td>\n",
       "    </tr>\n",
       "    <tr>\n",
       "      <th>12</th>\n",
       "      <td>40.0</td>\n",
       "      <td>XrayVoltageInkV</td>\n",
       "    </tr>\n",
       "    <tr>\n",
       "      <th>13</th>\n",
       "      <td>8.0</td>\n",
       "      <td>XrayFilamentCurrentInMicroAmps</td>\n",
       "    </tr>\n",
       "    <tr>\n",
       "      <th>14</th>\n",
       "      <td>13</td>\n",
       "      <td>Filter1ElementAtomicNum</td>\n",
       "    </tr>\n",
       "    <tr>\n",
       "      <th>15</th>\n",
       "      <td>38</td>\n",
       "      <td>Filter1Thickness</td>\n",
       "    </tr>\n",
       "    <tr>\n",
       "      <th>16</th>\n",
       "      <td>0</td>\n",
       "      <td>Filter2ElementAtomicNum</td>\n",
       "    </tr>\n",
       "    <tr>\n",
       "      <th>17</th>\n",
       "      <td>0</td>\n",
       "      <td>Filter2Thickness</td>\n",
       "    </tr>\n",
       "    <tr>\n",
       "      <th>18</th>\n",
       "      <td>0</td>\n",
       "      <td>Filter3ElementAtomicNum</td>\n",
       "    </tr>\n",
       "    <tr>\n",
       "      <th>19</th>\n",
       "      <td>0</td>\n",
       "      <td>Filter3Thickness</td>\n",
       "    </tr>\n",
       "    <tr>\n",
       "      <th>20</th>\n",
       "      <td>5</td>\n",
       "      <td>??</td>\n",
       "    </tr>\n",
       "    <tr>\n",
       "      <th>21</th>\n",
       "      <td>37.5</td>\n",
       "      <td>DetectorTempInC</td>\n",
       "    </tr>\n",
       "    <tr>\n",
       "      <th>22</th>\n",
       "      <td>0</td>\n",
       "      <td>??</td>\n",
       "    </tr>\n",
       "    <tr>\n",
       "      <th>23</th>\n",
       "      <td>0.0</td>\n",
       "      <td>??</td>\n",
       "    </tr>\n",
       "    <tr>\n",
       "      <th>24</th>\n",
       "      <td>0</td>\n",
       "      <td>??</td>\n",
       "    </tr>\n",
       "    <tr>\n",
       "      <th>25</th>\n",
       "      <td>20.0</td>\n",
       "      <td>eVPerChannel</td>\n",
       "    </tr>\n",
       "    <tr>\n",
       "      <th>26</th>\n",
       "      <td>2</td>\n",
       "      <td>??</td>\n",
       "    </tr>\n",
       "    <tr>\n",
       "      <th>27</th>\n",
       "      <td>2.356571</td>\n",
       "      <td>eVStart</td>\n",
       "    </tr>\n",
       "    <tr>\n",
       "      <th>28</th>\n",
       "      <td>2022</td>\n",
       "      <td>Year</td>\n",
       "    </tr>\n",
       "    <tr>\n",
       "      <th>29</th>\n",
       "      <td>8</td>\n",
       "      <td>Month</td>\n",
       "    </tr>\n",
       "    <tr>\n",
       "      <th>30</th>\n",
       "      <td>2</td>\n",
       "      <td>AM/PM code?</td>\n",
       "    </tr>\n",
       "    <tr>\n",
       "      <th>31</th>\n",
       "      <td>23</td>\n",
       "      <td>Day</td>\n",
       "    </tr>\n",
       "    <tr>\n",
       "      <th>32</th>\n",
       "      <td>11</td>\n",
       "      <td>Hour</td>\n",
       "    </tr>\n",
       "    <tr>\n",
       "      <th>33</th>\n",
       "      <td>54</td>\n",
       "      <td>Minutes</td>\n",
       "    </tr>\n",
       "    <tr>\n",
       "      <th>34</th>\n",
       "      <td>32</td>\n",
       "      <td>Seconds</td>\n",
       "    </tr>\n",
       "    <tr>\n",
       "      <th>35</th>\n",
       "      <td>320</td>\n",
       "      <td>??</td>\n",
       "    </tr>\n",
       "    <tr>\n",
       "      <th>36</th>\n",
       "      <td>1017.0</td>\n",
       "      <td>NosePressureInMilliBars</td>\n",
       "    </tr>\n",
       "    <tr>\n",
       "      <th>37</th>\n",
       "      <td>2048</td>\n",
       "      <td>NumberOfChannels</td>\n",
       "    </tr>\n",
       "    <tr>\n",
       "      <th>38</th>\n",
       "      <td>38</td>\n",
       "      <td>NoseTemperatureInC</td>\n",
       "    </tr>\n",
       "    <tr>\n",
       "      <th>39</th>\n",
       "      <td>[b'\\x0cRoHS 50 Hi-Z\\x01']</td>\n",
       "      <td>??</td>\n",
       "    </tr>\n",
       "    <tr>\n",
       "      <th>40</th>\n",
       "      <td>[0, 0, 0, 0, 0, 0, 0, 0, 0, 0, 0, 0, 0, 0, 6, ...</td>\n",
       "      <td>Intensity_2048_channels</td>\n",
       "    </tr>\n",
       "  </tbody>\n",
       "</table>\n",
       "</div>"
      ],
      "text/plain": [
       "                                               values  \\\n",
       "0                                                   3   \n",
       "1                                                8332   \n",
       "2                                                   0   \n",
       "3                                             8139946   \n",
       "4                                             4976150   \n",
       "5                                                 0.0   \n",
       "6                                                 0.0   \n",
       "7                                           55.394989   \n",
       "8                                           55.287003   \n",
       "9                                           16.830002   \n",
       "10                                          13.925006   \n",
       "11                                          24.532001   \n",
       "12                                               40.0   \n",
       "13                                                8.0   \n",
       "14                                                 13   \n",
       "15                                                 38   \n",
       "16                                                  0   \n",
       "17                                                  0   \n",
       "18                                                  0   \n",
       "19                                                  0   \n",
       "20                                                  5   \n",
       "21                                               37.5   \n",
       "22                                                  0   \n",
       "23                                                0.0   \n",
       "24                                                  0   \n",
       "25                                               20.0   \n",
       "26                                                  2   \n",
       "27                                           2.356571   \n",
       "28                                               2022   \n",
       "29                                                  8   \n",
       "30                                                  2   \n",
       "31                                                 23   \n",
       "32                                                 11   \n",
       "33                                                 54   \n",
       "34                                                 32   \n",
       "35                                                320   \n",
       "36                                             1017.0   \n",
       "37                                               2048   \n",
       "38                                                 38   \n",
       "39                          [b'\\x0cRoHS 50 Hi-Z\\x01']   \n",
       "40  [0, 0, 0, 0, 0, 0, 0, 0, 0, 0, 0, 0, 0, 0, 6, ...   \n",
       "\n",
       "                        param_keys  \n",
       "0                       block_type  \n",
       "1                       block_size  \n",
       "2                               ??  \n",
       "3                        RawCounts  \n",
       "4                      ValidCounts  \n",
       "5                               ??  \n",
       "6                               ??  \n",
       "7                               ??  \n",
       "8              ActiveTimeInSeconds  \n",
       "9                DeadTimeInSeconds  \n",
       "10              ResetTimeInSeconds  \n",
       "11               LiveTimeInSeconds  \n",
       "12                 XrayVoltageInkV  \n",
       "13  XrayFilamentCurrentInMicroAmps  \n",
       "14         Filter1ElementAtomicNum  \n",
       "15                Filter1Thickness  \n",
       "16         Filter2ElementAtomicNum  \n",
       "17                Filter2Thickness  \n",
       "18         Filter3ElementAtomicNum  \n",
       "19                Filter3Thickness  \n",
       "20                              ??  \n",
       "21                 DetectorTempInC  \n",
       "22                              ??  \n",
       "23                              ??  \n",
       "24                              ??  \n",
       "25                    eVPerChannel  \n",
       "26                              ??  \n",
       "27                         eVStart  \n",
       "28                            Year  \n",
       "29                           Month  \n",
       "30                     AM/PM code?  \n",
       "31                             Day  \n",
       "32                            Hour  \n",
       "33                         Minutes  \n",
       "34                         Seconds  \n",
       "35                              ??  \n",
       "36         NosePressureInMilliBars  \n",
       "37                NumberOfChannels  \n",
       "38              NoseTemperatureInC  \n",
       "39                              ??  \n",
       "40         Intensity_2048_channels  "
      ]
     },
     "metadata": {},
     "output_type": "display_data"
    }
   ],
   "source": [
    "values,  arr = multiparse(xformat, b3, param_keys=param_keys)"
   ]
  },
  {
   "cell_type": "markdown",
   "id": "26bb0dc0-1cb3-418f-a994-0d4d3712d52d",
   "metadata": {},
   "source": [
    "We can see in the table above that the last row contains an array of 2048 integers with photon counts. This array can accessed by indexing the last element of the returned `values` list like so:     "
   ]
  },
  {
   "cell_type": "code",
   "execution_count": null,
   "id": "3b9e95d8-f832-4de5-9be4-ae556ab65d60",
   "metadata": {},
   "outputs": [
    {
     "data": {
      "text/plain": [
       "array([0, 0, 0, ..., 2, 2, 3])"
      ]
     },
     "execution_count": null,
     "metadata": {},
     "output_type": "execute_result"
    }
   ],
   "source": [
    "values[-1]"
   ]
  },
  {
   "cell_type": "markdown",
   "id": "bf848c37-3942-4ddb-8740-c67dcebfcb0f",
   "metadata": {},
   "source": [
    "The energy calibration for the individual 2048 detector channels is not stored in the pdz file but can be calculated from two spectral parameters:  `eVPerChannel` and `eVStart`. This is done automatically for you in the `extract_spectra()` function as explained in the previous section. If you want to save the spectral data to a .csv file then set the option `to_csv=True`. "
   ]
  },
  {
   "cell_type": "code",
   "execution_count": null,
   "id": "c748883b-54a4-4f15-a461-bbcabe0d0f0a",
   "metadata": {},
   "outputs": [],
   "source": [
    "from read_pdz import extract_spectrum"
   ]
  },
  {
   "cell_type": "code",
   "execution_count": null,
   "id": "01b3b7a4-2022-4301-82d3-f623c604efcc",
   "metadata": {},
   "outputs": [
    {
     "name": "stdout",
     "output_type": "stream",
     "text": [
      "Saving spectral data to: /home/frank/Work/DATA/read-pdz-demodata/s0243V1962_XRF_28_White edge clothes underpainting (Al 38um filter).pdz.csv\n"
     ]
    }
   ],
   "source": [
    "df = extract_spectrum(pdz_file, to_csv=True)"
   ]
  },
  {
   "cell_type": "code",
   "execution_count": null,
   "id": "4cf5e3b3-9c8e-4ac1-a2e2-5886bc042eb1",
   "metadata": {},
   "outputs": [
    {
     "data": {
      "image/png": "[encoded data removed]",
      "text/plain": [
       "<Figure size 640x480 with 1 Axes>"
      ]
     },
     "metadata": {},
     "output_type": "display_data"
    }
   ],
   "source": [
    "ax = df.plot()\n",
    "ax.set_xlabel('Energy (keV)')\n",
    "ax.set_ylabel('Intensity (counts');"
   ]
  },
  {
   "cell_type": "markdown",
   "id": "ac3b358b-c5b5-4e03-9751-fca1fe4c9b50",
   "metadata": {},
   "source": [
    "## FUNCTIONS "
   ]
  },
  {
   "cell_type": "code",
   "execution_count": null,
   "id": "d186f248-0266-4e71-bc43-ad0fac9e2d6e",
   "metadata": {},
   "outputs": [],
   "source": [
    "#|export \n",
    "import struct \n",
    "import numpy as np \n",
    "import os \n",
    "import re\n",
    "import matplotlib.pyplot as plt\n",
    "import pandas as pd \n",
    "from IPython.display import display"
   ]
  },
  {
   "cell_type": "code",
   "execution_count": null,
   "id": "db76b0c6-7f0e-46f1-905f-d0620bd024d6",
   "metadata": {},
   "outputs": [],
   "source": [
    "#|export \n",
    "\n",
    "# 'hi-3i9f7hfhfhfhf8hfhi-S-h-Z'\n",
    "\n",
    "PDZ_25_STRUCTURE_DICT = {\n",
    "    25:  {'xformat': 'hi-10X-i', \n",
    "          'param_keys': ['pdz_type', 'block_size', 'FileFormatString?', '??']}, \n",
    "    1:   {'xformat': 'hi-2S-6s-2S-h-S-T', \n",
    "          'param_keys': ['block_type', 'block_size', '??', 'SerialString', '??', '??', '??', '??', '??', '??', \n",
    "                         '??', '??', '??', '??', '??', '??', '??']}, \n",
    "    2:   {'xformat': 'hi3i8f-*X', \n",
    "          'param_keys': ['block_type', 'block_size', '??', 'RawCounts', 'ValidCounts', '??', '??', \n",
    "                         '??', 'ActiveTimeInSeconds', 'DeadTimeInSeconds', 'ResetTimeInSeconds', \n",
    "                         'LiveTimeInSeconds', 'TotalElapsedTimeInSeconds', '??']}, \n",
    "    3:   {'xformat': 'hi-3i9f7hfhfhfhf8hfhi-*Z', \n",
    "          'param_keys': ['block_type', 'block_size', '??', 'RawCounts', 'ValidCounts', \n",
    "                         '??', '??', '??', 'ActiveTimeInSeconds', 'DeadTimeInSeconds', \n",
    "                         'ResetTimeInSeconds', 'LiveTimeInSeconds', 'XrayVoltageInkV', 'XrayFilamentCurrentInMicroAmps', \n",
    "                         'Filter1ElementAtomicNum', 'Filter1Thickness', 'Filter2ElementAtomicNum', 'Filter2Thickness', \n",
    "                         'Filter3ElementAtomicNum', 'Filter3Thickness', '??', 'DetectorTempInC', '??', \n",
    "                         '??', '??', 'eVPerChannel', '??', 'eVStart', \n",
    "                         'Year', 'Month', 'AM/PM code?', 'Day', 'Hour', 'Minutes', 'Seconds', \n",
    "                         '??', 'NosePressureInMilliBars', 'NumberOfChannels', 'NoseTemperatureInC', \n",
    "                         '??', 'Intensity_2048_channels']}}\n",
    "\n",
    "# moved extract_spectra() function to legacy module \n",
    "\n",
    "\n",
    "def multiparse(xformat, arr, param_keys=None, verbose=True): \n",
    "    '''Parse segments in extendend format string `xformat` e.g. '<i5f-2S-T-3S-S-f' '''\n",
    "\n",
    "    \n",
    "    parts = re.split('-', xformat) \n",
    "\n",
    "    result_list = []\n",
    "    for p in parts: \n",
    "        if 'S' in p:\n",
    "            result, arr = read_strings(p, arr, verbose=False) \n",
    "        elif p == 'T': \n",
    "            result, arr = read_table(p, arr, verbose=False) \n",
    "        elif 'X' in p: \n",
    "            result, arr = skip_bytes(p, arr, verbose=False) \n",
    "            \n",
    "        # four spectral data scenarios here: \n",
    "\n",
    "        # (1) 2048 channels at end of array and skip any bytes before\n",
    "        elif p == '*Z': \n",
    "            # split array  \n",
    "            n_channels = 2048 \n",
    "            arr_0 = arr[:-n_channels*4] # head \n",
    "            arr_1 = arr[-n_channels*4:] # tail             \n",
    "            skipped, _ = skip_bytes('*X', arr_0, verbose=False)\n",
    "            counts, arr = read_counts('Z', arr_1 , verbose=False) # arr should now be empty \n",
    "            result = [skipped, counts]             \n",
    "        # (2) 1024 channels at end of array and skip any bytes before\n",
    "        elif p == '*z': \n",
    "            # split array  \n",
    "            n_channels = 1024 \n",
    "            arr_0 = arr[:-n_channels*4] # head \n",
    "            arr_1 = arr[-n_channels*4:] # tail \n",
    "            \n",
    "            skipped, _ = skip_bytes('*X', arr_0, verbose=False)\n",
    "            counts, arr = read_counts('z', arr_1 , verbose=False) # arr should now be empty \n",
    "            result = [skipped, counts]             \n",
    "        # (3) 2048 channels not at end of array \n",
    "        elif p == 'Z': \n",
    "            result, arr = read_counts(p, arr, verbose=False)\n",
    "            result = [result]\n",
    "        # (4) 1024 channels not at end of array \n",
    "        elif p == 'z': \n",
    "            result, arr = read_counts(p, arr, verbose=False)\n",
    "            result = [result]    \n",
    "        \n",
    "        else: \n",
    "            result, arr = parse(p, arr, verbose=False) \n",
    "            \n",
    "        result_list.extend(result)   \n",
    "\n",
    "    if verbose: \n",
    "        if param_keys == None: \n",
    "            result_df = pd.DataFrame({'values': result_list})\n",
    "        else: \n",
    "            result_df = pd.DataFrame({'values': result_list, 'param_keys': param_keys})      \n",
    "        display(result_df)\n",
    "\n",
    "    return result_list, arr   \n",
    "\n",
    "def prefix(format): \n",
    "    '''Prefix little endian byte order (<) to struct type format string if missing. '''\n",
    "\n",
    "    if not format.startswith('<'): \n",
    "        format = f'<{format}'\n",
    "    \n",
    "    return format    \n",
    "\n",
    "def file_to_bytes(pdz_file): \n",
    "    '''Read all bytes from filepath `pdz_file` into a byte array. \n",
    "    \n",
    "    Returns: `pdz_arr` (numpy array of bytes)\n",
    "    '''\n",
    "\n",
    "    with open(pdz_file, 'rb') as fh: \n",
    "        blob = fh.read() \n",
    "        \n",
    "    pdz_arr = np.array([v[0] for v in struct.iter_unpack('c', blob)])\n",
    "    #pdz_arr = bytearray(blob)\n",
    "\n",
    "    return pdz_arr \n",
    "    \n",
    "\n",
    "def parse(format, arr, verbose=True): \n",
    "    '''Parse first bytes from bytes array `arr` into human readable text according to `format` string. \n",
    "    \n",
    "    See struct library for format string specification. For example, '<ff' would result \n",
    "    the first 8 bytes to be converted into two Little-Endian floats. \n",
    "    \n",
    "    Returns: `parsed` list and remaining bytes array of `tail_arr` unprocessed `values`.'''\n",
    "\n",
    "    format = prefix(format) \n",
    "    size = struct.calcsize(format)\n",
    "    buffer = arr[0:size]\n",
    "    tail_arr = arr[size:]\n",
    "\n",
    "    parsed = list(struct.unpack(format, buffer)) \n",
    "\n",
    "    if verbose: \n",
    "        print(parsed)\n",
    "    \n",
    "    return parsed, tail_arr\n",
    "\n",
    "def read_strings(xformat, arr, verbose=True): \n",
    "    '''Parse `n` variable length character strings preceded by a length integer. \n",
    "     \n",
    "    '''\n",
    "    # get multiplier  \n",
    "    if xformat == 'S': \n",
    "        n = 1\n",
    "    else: \n",
    "        n = int(re.sub('(^\\d+)S', '\\g<1>', xformat))\n",
    "\n",
    "    # parse strings \n",
    "    string_list = [] \n",
    "    while n > 0: \n",
    "        [length], arr = parse('<i', arr, verbose=False) # read length \n",
    "        n_bytes = 2 * length \n",
    "\n",
    "        # do some testing \n",
    "        assert (n_bytes > 1) and (type(n_bytes) is int), f'{n_bytes} is invalid string length' \n",
    "        \n",
    "        char_list, arr = parse(f'<{n_bytes}c', arr, verbose=False) \n",
    "        string = b''.join(char_list).decode(encoding='utf-16') \n",
    "        string_list.append(string) \n",
    "        n = n -1 \n",
    "        \n",
    "    if verbose: \n",
    "        print(string_list) \n",
    "\n",
    "    return string_list, arr\n",
    "\n",
    "\n",
    "def skip_bytes(xformat, arr, verbose=True): \n",
    "    '''Skip a number of bytes as specified in `xformat` string. \n",
    "    \n",
    "    If multiplier is `*` then skip all. \n",
    "    '''\n",
    "\n",
    "    # get multiplier  \n",
    "    if xformat == 'X': \n",
    "        n_bytes = 1\n",
    "    elif xformat == '*X': \n",
    "        n_bytes = len(arr)    \n",
    "    else: \n",
    "        n_bytes = int(re.sub('(^\\d+)X', '\\g<1>', xformat))\n",
    "\n",
    "    skipped = [b''.join(arr[0:n_bytes])] \n",
    "\n",
    "    arr = arr[n_bytes:] \n",
    "\n",
    "    if verbose: \n",
    "        print(skipped)\n",
    "\n",
    "    return skipped, arr \n",
    "    \n",
    "\n",
    "def read_table(xformat, arr, verbose=True): \n",
    "    '''Extract numbered table'''\n",
    "\n",
    "    assert xformat == 'T', 'Incorrect format string'\n",
    "\n",
    "    [table_length], arr = parse('<i', arr, verbose=False) \n",
    "\n",
    "    table = []\n",
    "    for i in range(table_length): \n",
    "        [num], arr = parse('<h', arr, verbose=False)  \n",
    "        [string], arr = read_strings('S', arr, verbose=False)\n",
    "        table.append([f'#{num}', string]) \n",
    "        \n",
    "    if verbose: \n",
    "        print(table)\n",
    "\n",
    "    return table, arr\n",
    "\n",
    "\n",
    "def read_counts(xformat, arr, verbose=True): \n",
    "    '''Extract counts. '''\n",
    "\n",
    "    assert xformat == 'Z'  or xformat == 'z', 'Incorrect spectral data format string. Should be `Z` or `z`' \n",
    "    \n",
    "    if xformat == 'Z': \n",
    "        n_channels = 2048 \n",
    "    elif xformat == 'z': \n",
    "        n_channels = 1024 \n",
    "        \n",
    "    # make struct compatible format string \n",
    "    _format = f'<{n_channels}i'\n",
    "\n",
    "    counts, arr = parse(_format, arr, verbose=False) \n",
    "    counts = np.array(counts)\n",
    "        \n",
    "    if verbose: \n",
    "        print(counts)\n",
    "\n",
    "    return counts, arr\n",
    "    \n",
    "\n",
    "def get_block_at(pdz_arr, start): \n",
    "    '''Read first data block from bytes array `pdz_arr` from index position `start`. \n",
    "\n",
    "    Assumes that first 4 bytes are (block type and size)\n",
    "    \n",
    "    Returns: `block_dict`, `block` \n",
    "    '''\n",
    "\n",
    "    file_size = len(pdz_arr)\n",
    "    \n",
    "    [block_type, block_size], arr = parse('hi', pdz_arr[start:], verbose=False)\n",
    "    \n",
    "    stop = start + block_size + 6 # four bytes extra due to `dtype` and `size` shorts plus two empty pad bytes? \n",
    "\n",
    "    # read block bytes\n",
    "    arr = pdz_arr[start:stop] \n",
    "    \n",
    "    block_dict = {'block_type': block_type, 'block_size': block_size, 'start': start, 'stop': stop, \n",
    "                  'file_size': file_size, 'bytes': arr}\n",
    "\n",
    "    return block_dict\n",
    "\n",
    "\n",
    "def get_blocks(pdz_bytes, verbose=True): \n",
    "    '''Parse `pdz_byte_array` into consequtive blocks. ''' \n",
    "\n",
    "    if verbose: \n",
    "        print('Detecting block sequence...')\n",
    "    \n",
    "    start = 0 \n",
    "    total_size = len(pdz_bytes) \n",
    "\n",
    "    block_list = [] \n",
    "    while start < total_size: \n",
    "        block_dict = get_block_at(pdz_bytes, start)\n",
    "        start = block_dict['stop']\n",
    "        block_list.append(block_dict)\n",
    "\n",
    "    else:\n",
    "        if start == total_size: \n",
    "            if verbose: \n",
    "                print('Ok!')\n",
    "        else: \n",
    "            print('Error while reading last block! ')\n",
    "            print(f'Stop index: {start} does not match total file size: {total_size}')\n",
    "        \n",
    "    return block_list\n",
    "\n",
    "\n",
    "def get_blocktypes(block_list): \n",
    "    '''Extract `block_types` list from `block_list`. '''\n",
    "    \n",
    "    block_types = []\n",
    "\n",
    "    for block_dict in block_list: \n",
    "        t = block_dict['block_type']\n",
    "        block_types.append(t)\n",
    "\n",
    "    return block_types\n"
   ]
  },
  {
   "attachments": {},
   "cell_type": "markdown",
   "id": "30031720-03d2-4fe7-a288-2247cd626c46",
   "metadata": {},
   "source": [
    "#|hide \n",
    "\n",
    "## Comparison with .csv export \n",
    "\n",
    "Let's take a look at the `Complete.csv` file first, to see what type of info we can expect when we try to parse the bytes in the pdz file.  \n",
    "\n",
    "    [0] Bruker AXS HMP Instrument Tools Complete CSV\n",
    "    [1] FileName,C:\\00-VGM\\cal tool kit test\\s0243V1962_XRF_28_White edge clothes underpainting (Al 38um filter).pdz\n",
    "    [2] SerialString,SK5-4969\n",
    "    [3] TubeTargetElement,45\n",
    "    [4] NumberOfSpectra,1\n",
    "    [5] SampleID,\n",
    "    [6] AcquisitionDateTime,8/23/2022 11:54:32 AM\n",
    "    [7] TotalElapsedTimeInSeconds,112.7783\n",
    "    [8] AnodeTakeOffAngle,45\n",
    "    [9] SampleIncidenceAngle,45\n",
    "    [10] BeThicknessInMicroMeters,125\n",
    "    [11] SampleTakeOffAngle,65\n",
    "    [12] XrayVoltageInkV,40,\n",
    "    [13] XrayFilamentCurrentInMicroAmps,8,\n",
    "    [14] RawCounts,8139946,\n",
    "    [15] ValidCounts,4976150,\n",
    "    [16] eVPerChannel,20,\n",
    "    [17] StartingKeV,0.002356571,\n",
    "    [18] ZeroOffsetInKeV,-0.002356571,\n",
    "    [19] StartingChannel,0.1178286,\n",
    "    [20] NumberOfChannels,2048,\n",
    "    [21] CountsPerSecond,147230.7,\n",
    "    [22] XilinxFirmwareVersion,,\n",
    "    [23] Filter1ElementAtomicNum,13,\n",
    "    [24] Filter1Thickness,38,\n",
    "    [25] Filter2ElementAtomicNum,0,\n",
    "    [26] Filter2Thickness,0,\n",
    "    [27] Filter3ElementAtomicNum,0,\n",
    "    [28] Filter3Thickness,0,\n",
    "    [29] AcquisitionDateTime,8/23/2022 11:54:32 AM,\n",
    "    [30] LiveTimeInSeconds,24.532,\n",
    "    [31] DeadTimeInSeconds,16.83,\n",
    "    [32] ResetTimeInSeconds,13.92501,\n",
    "    [33] DetectorTempInC,37.5,\n",
    "    [34] AmbientTempInF,0,\n",
    "    [35] NosePressureInMilliBars,1017,\n",
    "    [36] NoseTemperatureInC,38,\n",
    "    [37] ActiveTimeInSeconds,55.287,\n",
    "    [38] PacketTimeInSeconds,69.21201,\n",
    "    [39] CommunicationTimeInSeconds,,\n",
    "    [40] ElapsedClockTimeInSeconds,112.7783,\n",
    "    [41] Spectrum:ChannelNumber,ChannelStartInKeV,ChannelCount\n",
    "    [42] 1,0.002356571,0\n",
    "    [43] 2,0.02235657,0\n",
    "    [44] 3,0.04235657,0\n",
    "    [45] 4,0.06235657,0\n",
    "    [46] 5,0.08235657,0\n",
    "    [47] 6,0.1023566,0\n",
    "    [48] 7,0.1223566,0\n",
    "    [49] 8,0.1423566,0\n",
    "    ...\n",
    "    [2085] 2044,40.86236,0\n",
    "    [2086] 2045,40.88235,3\n",
    "    [2087] 2046,40.90236,2\n",
    "    [2088] 2047,40.92236,2\n",
    "    [2089] 2048,40.94236,3"
   ]
  }
 ],
 "metadata": {
  "kernelspec": {
   "display_name": "python3",
   "language": "python",
   "name": "python3"
  }
 },
 "nbformat": 4,
 "nbformat_minor": 5
}
