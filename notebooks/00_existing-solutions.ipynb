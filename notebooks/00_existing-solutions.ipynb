{
 "cells": [
  {
   "cell_type": "markdown",
   "metadata": {},
   "source": [
    "# Existing solutions \n",
    "\n",
    "> How do other researchers open .pdz files? "
   ]
  },
  {
   "cell_type": "markdown",
   "metadata": {},
   "source": [
    "More information coming soon..."
   ]
  }
 ],
 "metadata": {
  "kernelspec": {
   "display_name": "Python 3",
   "language": "python",
   "name": "python3"
  }
 },
 "nbformat": 4,
 "nbformat_minor": 4
}
