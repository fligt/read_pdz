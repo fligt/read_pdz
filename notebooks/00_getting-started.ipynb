{
 "cells": [
  {
   "cell_type": "markdown",
   "metadata": {},
   "source": [
    "# Getting started with `read-pdz` \n",
    "\n",
    "> How to decode your first .pdz file in 3 minutes..."
   ]
  },
  {
   "cell_type": "markdown",
   "metadata": {},
   "source": [
    "In order to use the `read-pdz` Python package, you need to be able to install Python packages and run Python code in Jupyter notebooks on your computer. The easiest way to get started with Jupyter notebooks is by downloading and installing the JupyterLab Desktop installer for your operating system from the [official github repository](https://github.com/jupyterlab/jupyterlab-desktop#installation)."
   ]
  },
  {
   "cell_type": "markdown",
   "metadata": {},
   "source": [
    "::: {.callout-note}\n",
    "(The first time you start JupyterLab Desktop you additionally need to install the default Python environment from the start menu. \n",
    "\n",
    ":::\n",
    "\n",
    "See [user-guide](https://github.com/jupyterlab/jupyterlab-desktop/blob/master/user-guide.md) for further reading. \n",
    " \n",
    "Finally you need to install the `read-pdz` Python Package by executing this command from a code cell in a Jupyter notebook: \n",
    "\n",
    "    %pip install read-pdz \n",
    "\n",
    "See [installing-new-python-packages](https://github.com/jupyterlab/jupyterlab-desktop/blob/master/user-guide.md#installing-new-python-packages). \n",
    "\n",
    "**That is it! You now are ready to open up your pdz files!** "
   ]
  }
 ],
 "metadata": {
  "kernelspec": {
   "display_name": "python3",
   "language": "python",
   "name": "python3"
  }
 },
 "nbformat": 4,
 "nbformat_minor": 4
}
