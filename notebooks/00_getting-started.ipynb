{
 "cells": [
  {
   "cell_type": "markdown",
   "metadata": {},
   "source": [
    "# Getting started with Python \n",
    "\n",
    "> How to decode your first pdz file in 3 minutes..."
   ]
  },
  {
   "cell_type": "markdown",
   "metadata": {},
   "source": [
    "In order to use the `read-pdz` Python package, you need to be able to install Python packages and run Python code in Jupyter notebooks on your computer. The easiest way to get started with Jupyter notebooks is by downloading and installing the JupyterLab Desktop (JLD) installer for your operating system from the [official github repository](https://github.com/jupyterlab/jupyterlab-desktop#installation)."
   ]
  },
  {
   "cell_type": "markdown",
   "metadata": {},
   "source": [
    "![](https://github.com/jupyterlab/jupyterlab-desktop/raw/master/media/jupyterlab-desktop.png)"
   ]
  },
  {
   "cell_type": "markdown",
   "metadata": {},
   "source": [
    "::: {.callout-note}\n",
    "The first time you start JupyterLab Desktop you additionally need to install the default Python environment from the start menu. \n",
    "\n",
    ":::\n",
    " \n",
    "Finally you can install or update (with the `-U` option) the `read-pdz` package from the Python Package index [pypi.org](https://pypi.org/project/read-pdz/) by executing [this command](https://github.com/jupyterlab/jupyterlab-desktop/blob/master/user-guide.md#installing-new-python-packages) from a code cell in a Jupyter notebook: \n",
    "\n",
    "    %pip install -U read-pdz \n",
    "\n",
    "For more information about JupyterLab Desktop see the [JLD user guide](https://github.com/jupyterlab/jupyterlab-desktop/blob/master/user-guide.md). \n",
    "\n",
    "**That is it! You now are ready to open up your pdz files!** "
   ]
  },
  {
   "cell_type": "code",
   "execution_count": null,
   "metadata": {},
   "outputs": [],
   "source": []
  }
 ],
 "metadata": {
  "kernelspec": {
   "display_name": "python3",
   "language": "python",
   "name": "python3"
  }
 },
 "nbformat": 4,
 "nbformat_minor": 4
}
