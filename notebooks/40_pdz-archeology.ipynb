{
 "cells": [
  {
   "cell_type": "raw",
   "id": "c181d7be-0e92-441e-b29a-ea0b2671707b",
   "metadata": {},
   "source": [
    "---\n",
    "skip_exec: true \n",
    "---"
   ]
  },
  {
   "cell_type": "code",
   "execution_count": null,
   "id": "ceee21d0-89a0-4515-ad43-e1caf619a153",
   "metadata": {},
   "outputs": [],
   "source": [
    "#|default_exp legacy "
   ]
  },
  {
   "cell_type": "markdown",
   "id": "ac8d2a2f-587d-49c0-9788-687319607c0c",
   "metadata": {},
   "source": [
    "# Pdz archaeology \n",
    "\n",
    "> How to read legacy pdz files... "
   ]
  },
  {
   "cell_type": "markdown",
   "id": "4a5ec67b-0965-49ec-91b0-457ace74cb09",
   "metadata": {},
   "source": [
    "**If you did not develop a headache in the previous section, then this section is for you! We need to resolve one more problem of reading ancient pdz file formats.**  \n",
    "\n",
    "As explained in the previous section, the currently prevalent pdz file format version **pdz25** contains multiple blocks of different types and variable size. The first two bytes of a **pdz25** file decode as `25`. This is not true for old 'legacy format' pdz files. In earlier days pdz files were formatted as one single block of data. Legacy files always start with two bytes with hexadecimal code `\\x01\\x01`. I call this format **pdz11**.  The exact structure of these legacy files is not fixed, because some instrument detectors are equipped with 1024 channels, while other types contain 2048 channels. To complicate matters further the last part of pdz files can vary in length. \n",
    "\n",
    "To check a pdz file type import the `check_pdz_type()` function and provide a valid file path to a pdz file. Listing pdz files is easily done  with the standard library function `glob('*.pdz')`.       "
   ]
  },
  {
   "cell_type": "code",
   "execution_count": 2,
   "id": "ca592d2d-12ae-4851-ae90-2e59bb57d7b3",
   "metadata": {
    "execution": {
     "iopub.execute_input": "2024-09-13T11:43:25.026835Z",
     "iopub.status.busy": "2024-09-13T11:43:25.026465Z",
     "iopub.status.idle": "2024-09-13T11:43:25.030142Z",
     "shell.execute_reply": "2024-09-13T11:43:25.029200Z",
     "shell.execute_reply.started": "2024-09-13T11:43:25.026805Z"
    }
   },
   "outputs": [],
   "source": [
    "from read_pdz import check_pdz_type\n",
    "from glob import glob\n",
    "import os "
   ]
  },
  {
   "cell_type": "markdown",
   "id": "21e2be5f-b564-4314-9164-f594e59ae271",
   "metadata": {},
   "source": [
    "Let's check the pdz format for all demo data pdz files. "
   ]
  },
  {
   "cell_type": "code",
   "execution_count": 36,
   "id": "09a6a988-faf1-401b-9fcc-152edc1e6958",
   "metadata": {
    "execution": {
     "iopub.execute_input": "2024-09-13T13:03:00.369280Z",
     "iopub.status.busy": "2024-09-13T13:03:00.368963Z",
     "iopub.status.idle": "2024-09-13T13:03:00.422458Z",
     "shell.execute_reply": "2024-09-13T13:03:00.422032Z",
     "shell.execute_reply.started": "2024-09-13T13:03:00.369257Z"
    }
   },
   "outputs": [
    {
     "name": "stdout",
     "output_type": "stream",
     "text": [
      "Checking pdz file format versions: \n",
      " \n",
      "[0] 00066-Spectrum Only.pdz\n",
      "    --> format: 'pdz25'\n",
      "\n",
      "[1] 00067-Spectrum Only.pdz\n",
      "    --> format: 'pdz25'\n",
      "\n",
      "[2] 00068-Alloys 2.pdz\n",
      "    --> format: 'pdz25'\n",
      "\n",
      "[3] 00069-Alloys 2.pdz\n",
      "    --> format: 'pdz25'\n",
      "\n",
      "[4] 00081-Precious Metals 2.pdz\n",
      "    --> format: 'pdz25'\n",
      "\n",
      "[5] 00085-Mudrock Dual.pdz\n",
      "    --> format: 'pdz25'\n",
      "\n",
      "[6] 00086-Mudrock Dual.pdz\n",
      "    --> format: 'pdz25'\n",
      "\n",
      "[7] 00181-Restricted Materials.pdz\n",
      "    --> format: 'pdz25'\n",
      "\n",
      "[8] 00182-Restricted Materials.pdz\n",
      "    --> format: 'pdz25'\n",
      "\n",
      "[9] 1-sky sample spot.pdz\n",
      "    --> format: 'pdz11_1024_channels'\n",
      "\n",
      "[10] 2-sky left of left tree.pdz\n",
      "    --> format: 'pdz11_1024_channels'\n",
      "\n",
      "[11] 3-brown left edge sample spot.pdz\n",
      "    --> format: 'pdz11_1024_channels'\n",
      "\n",
      "[12] 59.pdz\n",
      "    --> format: 'pdz11_2048_channels'\n",
      "\n",
      "[13] A1_a.pdz\n",
      "    --> format: 'pdz11_2048_channels'\n",
      "\n",
      "[14] A7_a.pdz\n",
      "    --> format: 'pdz11_2048_channels'\n",
      "\n",
      "[15] ANALYZE_EMP-10.pdz\n",
      "    --> format: 'pdz11_2048_channels'\n",
      "\n",
      "[16] ANALYZE_EMP-11.pdz\n",
      "    --> format: 'pdz11_2048_channels'\n",
      "\n",
      "[17] ANALYZE_EMP-12.pdz\n",
      "    --> format: 'pdz11_2048_channels'\n",
      "\n",
      "[18] AffectionsGift1854_13218.pdz\n",
      "    --> format: 'pdz25'\n",
      "\n",
      "[19] B11_a.pdz\n",
      "    --> format: 'pdz11_2048_channels'\n",
      "\n",
      "[20] B5_a.pdz\n",
      "    --> format: 'pdz11_2048_channels'\n",
      "\n",
      "[21] s0243V1962_XRF_28_White edge clothes underpainting (Al 38um filter).pdz\n",
      "    --> format: 'pdz25'\n",
      "\n",
      "[22] with-three-images.pdz\n",
      "    --> format: 'pdz25'\n",
      "\n"
     ]
    }
   ],
   "source": [
    "os.chdir('/home/frank/Work/DATA/read-pdz-demodata/')  \n",
    "pdz_files = sorted(glob('*.pdz'))\n",
    "\n",
    "print('Checking pdz file format versions: \\n ')\n",
    "for i, f in enumerate(pdz_files): \n",
    "    pdz_type = check_pdz_type(f)\n",
    "    print(f\"[{i}] {f}\\n    --> format: '{pdz_type}'\\n\")  "
   ]
  },
  {
   "cell_type": "markdown",
   "id": "2ab79969-9c30-4997-aa30-614780bff7f4",
   "metadata": {},
   "source": [
    "Let's now see how to parse a pdz11 file. To do so we need to import the `multiparse()` function and extended format string for pdz11 files.  "
   ]
  },
  {
   "cell_type": "code",
   "execution_count": 30,
   "id": "5c1da7a2-c2fe-48fc-9860-b1e8838f6e9b",
   "metadata": {
    "execution": {
     "iopub.execute_input": "2024-09-13T12:42:20.043561Z",
     "iopub.status.busy": "2024-09-13T12:42:20.042601Z",
     "iopub.status.idle": "2024-09-13T12:42:20.047944Z",
     "shell.execute_reply": "2024-09-13T12:42:20.047038Z",
     "shell.execute_reply.started": "2024-09-13T12:42:20.043525Z"
    }
   },
   "outputs": [],
   "source": [
    "from read_pdz import multiparse, file_to_bytes, PDZ11_STRUCT_DICT"
   ]
  },
  {
   "cell_type": "markdown",
   "id": "72ab1d14-ea01-4a09-9c0d-be57e0356c9e",
   "metadata": {},
   "source": [
    "Let's take a closer look at the structure of PDZ11 files. \n",
    "\n",
    "```python\n",
    "PDZ11_STRUCT_DICT = {\n",
    "    'pdz11_2048_channels' : {'xformat': '2X-4X-h-34X-2d-86X-2i-10X-2f-188X-Z-*X', \n",
    "                          'param_keys': ['pdz-version', '??', 'NumberOfChannels', '??', 'LiveTimeInSeconds', \n",
    "                                         'eVPerChannel', '??', 'RawCounts', 'ValidCounts', '??',  'XrayVoltageInkV', \n",
    "                                         'XrayFilamentCurrentInMicroAmps', '??', 'PhotonCounts (2048 channels)', '??']}, \n",
    "    'pdz11_1024_channels' : {'xformat': '2X-4X-h-34X-2d-86X-2i-10X-2f-24X-z-*X', \n",
    "                          'param_keys': ['pdz-version', '??', 'NumberOfChannels', '??', 'LiveTimeInSeconds', \n",
    "                                         'eVPerChannel', '??', 'RawCounts', 'ValidCounts', '??',  'XrayVoltageInkV', \n",
    "                                         'XrayFilamentCurrentInMicroAmps', '??', 'PhotonCounts (1024 channels)', '??']} \n",
    "}\n",
    "```\n"
   ]
  },
  {
   "cell_type": "markdown",
   "id": "4c529835-44fe-4f6d-a1f3-3fea390b6173",
   "metadata": {},
   "source": [
    "Given the slightly different `xformat` strings for the two types of pdz11 legacy files we can now check if we can also parse these files correctly.  "
   ]
  },
  {
   "cell_type": "code",
   "execution_count": 34,
   "id": "621a69db-9514-4f80-8b99-e93aa3aa05ee",
   "metadata": {
    "execution": {
     "iopub.execute_input": "2024-09-13T12:50:33.219359Z",
     "iopub.status.busy": "2024-09-13T12:50:33.218787Z",
     "iopub.status.idle": "2024-09-13T12:50:33.225733Z",
     "shell.execute_reply": "2024-09-13T12:50:33.225297Z",
     "shell.execute_reply.started": "2024-09-13T12:50:33.219338Z"
    }
   },
   "outputs": [
    {
     "name": "stdout",
     "output_type": "stream",
     "text": [
      "file: 'A1_a.pdz'\n",
      "--> pdz type: 'pdz11_2048_channels'\n",
      "--> xformat string: '2X-4X-h-34X-2d-86X-2i-10X-2f-188X-Z-*X'\n"
     ]
    }
   ],
   "source": [
    "#|code-fold: true\n",
    "n = 13  \n",
    "pdz_file = pdz_files[n]\n",
    "pdz_type = check_pdz_type(pdz_file) \n",
    "arr = file_to_bytes(pdz_file)\n",
    "\n",
    "xformat = PDZ11_STRUCT_DICT[pdz_type]['xformat']\n",
    "param_keys = PDZ11_STRUCT_DICT[pdz_type]['param_keys']\n",
    "print(f\"file: '{pdz_file}'\\n--> pdz type: '{pdz_type}'\\n--> xformat string: '{xformat}'\")"
   ]
  },
  {
   "cell_type": "code",
   "execution_count": 35,
   "id": "84bc6c01-3362-4e98-9fb7-7d9f0eb905fe",
   "metadata": {
    "execution": {
     "iopub.execute_input": "2024-09-13T12:50:59.190571Z",
     "iopub.status.busy": "2024-09-13T12:50:59.190134Z",
     "iopub.status.idle": "2024-09-13T12:50:59.203890Z",
     "shell.execute_reply": "2024-09-13T12:50:59.203317Z",
     "shell.execute_reply.started": "2024-09-13T12:50:59.190539Z"
    }
   },
   "outputs": [
    {
     "data": {
      "text/html": [
       "<div>\n",
       "<style scoped>\n",
       "    .dataframe tbody tr th:only-of-type {\n",
       "        vertical-align: middle;\n",
       "    }\n",
       "\n",
       "    .dataframe tbody tr th {\n",
       "        vertical-align: top;\n",
       "    }\n",
       "\n",
       "    .dataframe thead th {\n",
       "        text-align: right;\n",
       "    }\n",
       "</style>\n",
       "<table border=\"1\" class=\"dataframe\">\n",
       "  <thead>\n",
       "    <tr style=\"text-align: right;\">\n",
       "      <th></th>\n",
       "      <th>values</th>\n",
       "      <th>param_keys</th>\n",
       "    </tr>\n",
       "  </thead>\n",
       "  <tbody>\n",
       "    <tr>\n",
       "      <th>0</th>\n",
       "      <td>b'\\x01\\x01'</td>\n",
       "      <td>pdz-version</td>\n",
       "    </tr>\n",
       "    <tr>\n",
       "      <th>1</th>\n",
       "      <td>b'\\x17'</td>\n",
       "      <td>??</td>\n",
       "    </tr>\n",
       "    <tr>\n",
       "      <th>2</th>\n",
       "      <td>2048</td>\n",
       "      <td>NumberOfChannels</td>\n",
       "    </tr>\n",
       "    <tr>\n",
       "      <th>3</th>\n",
       "      <td>b'\\xc8\\xe6\\xc8\\xca\\xd6\\xd8\\x02\\x01?\\x02\\x01\\x04'</td>\n",
       "      <td>??</td>\n",
       "    </tr>\n",
       "    <tr>\n",
       "      <th>4</th>\n",
       "      <td>0.0</td>\n",
       "      <td>LiveTimeInSeconds</td>\n",
       "    </tr>\n",
       "    <tr>\n",
       "      <th>5</th>\n",
       "      <td>20.085341</td>\n",
       "      <td>eVPerChannel</td>\n",
       "    </tr>\n",
       "    <tr>\n",
       "      <th>6</th>\n",
       "      <td>b'\\xa8\\x91@\\x10\\x9d@\\xe0j@n@\\xf4\\x01\\x8c\\x02'</td>\n",
       "      <td>??</td>\n",
       "    </tr>\n",
       "    <tr>\n",
       "      <th>7</th>\n",
       "      <td>132513792</td>\n",
       "      <td>RawCounts</td>\n",
       "    </tr>\n",
       "    <tr>\n",
       "      <th>8</th>\n",
       "      <td>65538</td>\n",
       "      <td>ValidCounts</td>\n",
       "    </tr>\n",
       "    <tr>\n",
       "      <th>9</th>\n",
       "      <td>b'\\x0e\\t\\x11\\x07\\xde\\x02'</td>\n",
       "      <td>??</td>\n",
       "    </tr>\n",
       "    <tr>\n",
       "      <th>10</th>\n",
       "      <td>35.0</td>\n",
       "      <td>XrayVoltageInkV</td>\n",
       "    </tr>\n",
       "    <tr>\n",
       "      <th>11</th>\n",
       "      <td>7.0</td>\n",
       "      <td>XrayFilamentCurrentInMicroAmps</td>\n",
       "    </tr>\n",
       "    <tr>\n",
       "      <th>12</th>\n",
       "      <td>b'\\x9d\\xcf\\xc8\\xfe\\x02\\xff\\xff\\n\\x18\\x80\\x10\\x...</td>\n",
       "      <td>??</td>\n",
       "    </tr>\n",
       "    <tr>\n",
       "      <th>13</th>\n",
       "      <td>[781, 653, 461, 304, 146, 57, 27, 9, 2, 1, 0, ...</td>\n",
       "      <td>PhotonCounts (2048 channels)</td>\n",
       "    </tr>\n",
       "    <tr>\n",
       "      <th>14</th>\n",
       "      <td>b''</td>\n",
       "      <td>??</td>\n",
       "    </tr>\n",
       "  </tbody>\n",
       "</table>\n",
       "</div>"
      ],
      "text/plain": [
       "                                               values  \\\n",
       "0                                         b'\\x01\\x01'   \n",
       "1                                             b'\\x17'   \n",
       "2                                                2048   \n",
       "3    b'\\xc8\\xe6\\xc8\\xca\\xd6\\xd8\\x02\\x01?\\x02\\x01\\x04'   \n",
       "4                                                 0.0   \n",
       "5                                           20.085341   \n",
       "6       b'\\xa8\\x91@\\x10\\x9d@\\xe0j@n@\\xf4\\x01\\x8c\\x02'   \n",
       "7                                           132513792   \n",
       "8                                               65538   \n",
       "9                           b'\\x0e\\t\\x11\\x07\\xde\\x02'   \n",
       "10                                               35.0   \n",
       "11                                                7.0   \n",
       "12  b'\\x9d\\xcf\\xc8\\xfe\\x02\\xff\\xff\\n\\x18\\x80\\x10\\x...   \n",
       "13  [781, 653, 461, 304, 146, 57, 27, 9, 2, 1, 0, ...   \n",
       "14                                                b''   \n",
       "\n",
       "                        param_keys  \n",
       "0                      pdz-version  \n",
       "1                               ??  \n",
       "2                 NumberOfChannels  \n",
       "3                               ??  \n",
       "4                LiveTimeInSeconds  \n",
       "5                     eVPerChannel  \n",
       "6                               ??  \n",
       "7                        RawCounts  \n",
       "8                      ValidCounts  \n",
       "9                               ??  \n",
       "10                 XrayVoltageInkV  \n",
       "11  XrayFilamentCurrentInMicroAmps  \n",
       "12                              ??  \n",
       "13    PhotonCounts (2048 channels)  \n",
       "14                              ??  "
      ]
     },
     "metadata": {},
     "output_type": "display_data"
    }
   ],
   "source": [
    "parsed, tail = multiparse(xformat, arr, param_keys=param_keys)"
   ]
  },
  {
   "cell_type": "code",
   "execution_count": null,
   "id": "9786e956-625c-4fa3-8365-31a96199a4ea",
   "metadata": {},
   "outputs": [
    {
     "name": "stdout",
     "output_type": "stream",
     "text": [
      "file: '3-brown left edge sample spot.pdz'\n",
      "--> pdz type: 'pdz11_4454_bytes'\n",
      "--> xformat string: '2s-4s-h-34s-d-d-86s-i-i-10s-f-f-24s-z-148s'\n"
     ]
    }
   ],
   "source": [
    "#|code-fold: true\n",
    "n = 11\n",
    "pdz_file = pdz_files[n]\n",
    "pdz_type = check_pdz_type(pdz_file) \n",
    "arr = file_to_bytes(pdz_file)\n",
    "\n",
    "xformat = PDZ11_STRUCT_DICT[pdz_type]['xformat']\n",
    "param_keys = PDZ11_STRUCT_DICT[pdz_type]['param_keys']\n",
    "print(f\"file: '{pdz_file}'\\n--> pdz type: '{pdz_type}'\\n--> xformat string: '{xformat}'\")"
   ]
  },
  {
   "cell_type": "code",
   "execution_count": null,
   "id": "38442507-6e71-4a4b-a9d4-c5682c6a62d0",
   "metadata": {},
   "outputs": [
    {
     "data": {
      "text/html": [
       "<div>\n",
       "<style scoped>\n",
       "    .dataframe tbody tr th:only-of-type {\n",
       "        vertical-align: middle;\n",
       "    }\n",
       "\n",
       "    .dataframe tbody tr th {\n",
       "        vertical-align: top;\n",
       "    }\n",
       "\n",
       "    .dataframe thead th {\n",
       "        text-align: right;\n",
       "    }\n",
       "</style>\n",
       "<table border=\"1\" class=\"dataframe\">\n",
       "  <thead>\n",
       "    <tr style=\"text-align: right;\">\n",
       "      <th></th>\n",
       "      <th>values</th>\n",
       "      <th>param_keys</th>\n",
       "    </tr>\n",
       "  </thead>\n",
       "  <tbody>\n",
       "    <tr>\n",
       "      <th>0</th>\n",
       "      <td>b'\\x01\\x01'</td>\n",
       "      <td>pdz-version</td>\n",
       "    </tr>\n",
       "    <tr>\n",
       "      <th>1</th>\n",
       "      <td>b'\\x14\\x00\\x00\\x00'</td>\n",
       "      <td>??</td>\n",
       "    </tr>\n",
       "    <tr>\n",
       "      <th>2</th>\n",
       "      <td>1024</td>\n",
       "      <td>NumberOfChannels</td>\n",
       "    </tr>\n",
       "    <tr>\n",
       "      <th>3</th>\n",
       "      <td>b'\\xc8\\x00\\xe6\\x00\\xc8\\x00\\xca\\x00\\xd6\\x00\\xd8...</td>\n",
       "      <td>??</td>\n",
       "    </tr>\n",
       "    <tr>\n",
       "      <th>4</th>\n",
       "      <td>60.76</td>\n",
       "      <td>LiveTimeInSeconds</td>\n",
       "    </tr>\n",
       "    <tr>\n",
       "      <th>5</th>\n",
       "      <td>40.0</td>\n",
       "      <td>eVPerChannel</td>\n",
       "    </tr>\n",
       "    <tr>\n",
       "      <th>6</th>\n",
       "      <td>b'\\x00\\x00\\x00\\x00\\x00\\x00\\x00\\x00\\x00\\x00\\x00...</td>\n",
       "      <td>??</td>\n",
       "    </tr>\n",
       "    <tr>\n",
       "      <th>7</th>\n",
       "      <td>1001652224</td>\n",
       "      <td>RawCounts</td>\n",
       "    </tr>\n",
       "    <tr>\n",
       "      <th>8</th>\n",
       "      <td>519897088</td>\n",
       "      <td>ValidCounts</td>\n",
       "    </tr>\n",
       "    <tr>\n",
       "      <th>9</th>\n",
       "      <td>b'\\x00\\x00\\xc4w\\r\\x000Y\\x07\\x00'</td>\n",
       "      <td>??</td>\n",
       "    </tr>\n",
       "    <tr>\n",
       "      <th>10</th>\n",
       "      <td>40.0</td>\n",
       "      <td>XrayVoltageInkV</td>\n",
       "    </tr>\n",
       "    <tr>\n",
       "      <th>11</th>\n",
       "      <td>2.2</td>\n",
       "      <td>XrayFilamentCurrentInMicroAmps</td>\n",
       "    </tr>\n",
       "    <tr>\n",
       "      <th>12</th>\n",
       "      <td>b'\\xb9\\xa5\\x01\\x10\\xfe\\x00\\x00\\xff\\x00\\x00\\x00...</td>\n",
       "      <td>??</td>\n",
       "    </tr>\n",
       "    <tr>\n",
       "      <th>13</th>\n",
       "      <td>[0, 0, 0, 0, 0, 0, 0, 0, 0, 0, 0, 0, 0, 0, 0, ...</td>\n",
       "      <td>PhotonCounts (1024 channels)</td>\n",
       "    </tr>\n",
       "    <tr>\n",
       "      <th>14</th>\n",
       "      <td>b'\\x00\\x00\\x00\\x00\\x02\\x00\\x00\\x00\\x01\\x00\\x00...</td>\n",
       "      <td>??</td>\n",
       "    </tr>\n",
       "  </tbody>\n",
       "</table>\n",
       "</div>"
      ],
      "text/plain": [
       "                                               values  \\\n",
       "0                                         b'\\x01\\x01'   \n",
       "1                                 b'\\x14\\x00\\x00\\x00'   \n",
       "2                                                1024   \n",
       "3   b'\\xc8\\x00\\xe6\\x00\\xc8\\x00\\xca\\x00\\xd6\\x00\\xd8...   \n",
       "4                                               60.76   \n",
       "5                                                40.0   \n",
       "6   b'\\x00\\x00\\x00\\x00\\x00\\x00\\x00\\x00\\x00\\x00\\x00...   \n",
       "7                                          1001652224   \n",
       "8                                           519897088   \n",
       "9                    b'\\x00\\x00\\xc4w\\r\\x000Y\\x07\\x00'   \n",
       "10                                               40.0   \n",
       "11                                                2.2   \n",
       "12  b'\\xb9\\xa5\\x01\\x10\\xfe\\x00\\x00\\xff\\x00\\x00\\x00...   \n",
       "13  [0, 0, 0, 0, 0, 0, 0, 0, 0, 0, 0, 0, 0, 0, 0, ...   \n",
       "14  b'\\x00\\x00\\x00\\x00\\x02\\x00\\x00\\x00\\x01\\x00\\x00...   \n",
       "\n",
       "                        param_keys  \n",
       "0                      pdz-version  \n",
       "1                               ??  \n",
       "2                 NumberOfChannels  \n",
       "3                               ??  \n",
       "4                LiveTimeInSeconds  \n",
       "5                     eVPerChannel  \n",
       "6                               ??  \n",
       "7                        RawCounts  \n",
       "8                      ValidCounts  \n",
       "9                               ??  \n",
       "10                 XrayVoltageInkV  \n",
       "11  XrayFilamentCurrentInMicroAmps  \n",
       "12                              ??  \n",
       "13    PhotonCounts (1024 channels)  \n",
       "14                              ??  "
      ]
     },
     "metadata": {},
     "output_type": "display_data"
    }
   ],
   "source": [
    "parsed, tail = multiparse(xformat, arr, param_keys=param_keys)"
   ]
  },
  {
   "cell_type": "markdown",
   "id": "62a8dc29-9b61-4ae0-a455-c786f50ab66e",
   "metadata": {},
   "source": [
    "## FUNCTIONS"
   ]
  },
  {
   "cell_type": "code",
   "execution_count": 32,
   "id": "a8ca49b4-4266-4ae8-ad41-cd32f922d05f",
   "metadata": {
    "execution": {
     "iopub.execute_input": "2024-09-13T12:50:23.938199Z",
     "iopub.status.busy": "2024-09-13T12:50:23.936440Z",
     "iopub.status.idle": "2024-09-13T12:50:23.943101Z",
     "shell.execute_reply": "2024-09-13T12:50:23.942110Z",
     "shell.execute_reply.started": "2024-09-13T12:50:23.938140Z"
    }
   },
   "outputs": [],
   "source": [
    "#|export \n",
    "\n",
    "from read_pdz import file_to_bytes, get_blocks, multiparse, parse \n",
    "import struct"
   ]
  },
  {
   "cell_type": "code",
   "execution_count": 33,
   "id": "3e4aa68e-9a2f-4821-9fe6-be2586741fe3",
   "metadata": {
    "execution": {
     "iopub.execute_input": "2024-09-13T12:50:27.456353Z",
     "iopub.status.busy": "2024-09-13T12:50:27.455829Z",
     "iopub.status.idle": "2024-09-13T12:50:27.468557Z",
     "shell.execute_reply": "2024-09-13T12:50:27.467578Z",
     "shell.execute_reply.started": "2024-09-13T12:50:27.456311Z"
    }
   },
   "outputs": [],
   "source": [
    "#|export \n",
    "\n",
    "PDZ11_STRUCT_DICT = {\n",
    "    'pdz11_2048_channels' : {'xformat': '2X-4X-h-34X-2d-86X-2i-10X-2f-188X-Z-*X', \n",
    "                          'param_keys': ['pdz-version', '??', 'NumberOfChannels', '??', 'LiveTimeInSeconds', \n",
    "                                         'eVPerChannel', '??', 'RawCounts', 'ValidCounts', '??',  'XrayVoltageInkV', \n",
    "                                         'XrayFilamentCurrentInMicroAmps', '??', 'PhotonCounts (2048 channels)', '??']}, \n",
    "    'pdz11_1024_channels' : {'xformat': '2X-4X-h-34X-2d-86X-2i-10X-2f-24X-z-*X', \n",
    "                          'param_keys': ['pdz-version', '??', 'NumberOfChannels', '??', 'LiveTimeInSeconds', \n",
    "                                         'eVPerChannel', '??', 'RawCounts', 'ValidCounts', '??',  'XrayVoltageInkV', \n",
    "                                         'XrayFilamentCurrentInMicroAmps', '??', 'PhotonCounts (1024 channels)', '??']} \n",
    "}\n",
    "\n",
    "\n",
    "def check_pdz_type(pdz_file, verbose=True): \n",
    "    '''Read first two bytes and for legacy pdz files number of detector channels to check pdz file type.'''\n",
    "\n",
    "    pdz_bytes = file_to_bytes(pdz_file) \n",
    "    file_size = len(pdz_bytes)\n",
    "    first_two_bytes = struct.unpack('<h', pdz_bytes[0:2])[0] \n",
    "\n",
    "    if first_two_bytes == 25: \n",
    "        pdz_type = 'pdz25' \n",
    "    elif first_two_bytes == 257: \n",
    "        n_channels = struct.unpack('<h', pdz_bytes[6:8])[0] \n",
    "        if n_channels == 1024:\n",
    "            pdz_type = 'pdz11_1024_channels'\n",
    "        elif n_channels == 2048:\n",
    "            pdz_type = 'pdz11_2048_channels'  \n",
    "        else: \n",
    "            pdz_type = f'pdz11_with_unexpected_number_of_{n_channels}_channels'\n",
    "    else:\n",
    "        pdz_type = f'pdz_type_unknown:{first_two_bytes}'\n",
    "                \n",
    "    return pdz_type"
   ]
  },
  {
   "cell_type": "code",
   "execution_count": null,
   "id": "d9687c5f-cf2c-4dd4-b8db-5e8af8e96246",
   "metadata": {},
   "outputs": [],
   "source": [
    "#|hide \n",
    "import pandas as pd \n",
    "import numpy as np "
   ]
  },
  {
   "cell_type": "code",
   "execution_count": null,
   "id": "f12a93b1-f11e-496b-81f0-8e8476aaf3f5",
   "metadata": {},
   "outputs": [],
   "source": [
    "#|hide\n",
    "pd.set_option('display.max_rows', None)"
   ]
  }
 ],
 "metadata": {
  "kernelspec": {
   "display_name": "Python 3 (ipykernel)",
   "language": "python",
   "name": "python3"
  },
  "language_info": {
   "codemirror_mode": {
    "name": "ipython",
    "version": 3
   },
   "file_extension": ".py",
   "mimetype": "text/x-python",
   "name": "python",
   "nbconvert_exporter": "python",
   "pygments_lexer": "ipython3",
   "version": "3.11.7"
  }
 },
 "nbformat": 4,
 "nbformat_minor": 5
}
